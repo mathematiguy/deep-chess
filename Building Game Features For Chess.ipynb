{
 "cells": [
  {
   "cell_type": "markdown",
   "metadata": {},
   "source": [
    "# Building Game Features For Chess"
   ]
  },
  {
   "cell_type": "markdown",
   "metadata": {},
   "source": [
    "Recently DeepMind released the paper 'Mastering Chess and Shogi by Self-Play with a General Reinforcement Learning Algorithm' in which they create a Chess AI named AlphaZero based on the AlphaGo Zero algorithm.\n",
    "\n",
    "Here I will be modifying some (but not all) of my featurisation approach to more closely align with their work. \n",
    "\n",
    "In the paper they remark \"Other representations could have been used; in our experiments the training algorithm worked robustly for many reasonable choices\". This suggests my method could still work, but there are a few features that they have chosen to add that I would like to include as well. So I will do that here.\n",
    "\n",
    "I also want to consider whether writing proper classes and methods will make the code more readable and easier to maintain. This project is already becoming quite complicated for me to maintain."
   ]
  },
  {
   "cell_type": "code",
   "execution_count": 1,
   "metadata": {},
   "outputs": [
    {
     "name": "stderr",
     "output_type": "stream",
     "text": [
      "Using TensorFlow backend.\n"
     ]
    }
   ],
   "source": [
    "import chess\n",
    "import chess.pgn\n",
    "\n",
    "import numpy as np\n",
    "import tensorflow as tf\n",
    "import keras\n",
    "\n",
    "import itertools as it\n",
    "from functools import reduce"
   ]
  },
  {
   "cell_type": "code",
   "execution_count": null,
   "metadata": {},
   "outputs": [],
   "source": []
  }
 ],
 "metadata": {
  "kernelspec": {
   "display_name": "Python 3",
   "language": "python",
   "name": "python3"
  },
  "language_info": {
   "codemirror_mode": {
    "name": "ipython",
    "version": 3
   },
   "file_extension": ".py",
   "mimetype": "text/x-python",
   "name": "python",
   "nbconvert_exporter": "python",
   "pygments_lexer": "ipython3",
   "version": "3.6.3"
  }
 },
 "nbformat": 4,
 "nbformat_minor": 2
}
