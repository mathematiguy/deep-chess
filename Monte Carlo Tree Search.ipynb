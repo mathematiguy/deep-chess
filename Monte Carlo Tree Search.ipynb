{
 "cells": [
  {
   "cell_type": "markdown",
   "metadata": {},
   "source": [
    "# Monte Carlo Tree Search"
   ]
  },
  {
   "cell_type": "markdown",
   "metadata": {},
   "source": [
    "Here I'll be trying to implement the Monte Carlo Tree Search algorithm on chess. The aim is to create this part of the self-play training pipeline in full.\n",
    "\n",
    "Firstly, we need an instantiation of the model so we can build it into the algorithm."
   ]
  },
  {
   "cell_type": "code",
   "execution_count": 37,
   "metadata": {},
   "outputs": [],
   "source": [
    "import chess\n",
    "import chess.pgn\n",
    "\n",
    "import numpy as np\n",
    "import tensorflow as tf\n",
    "import keras\n",
    "\n",
    "import itertools as it\n",
    "from functools import reduce"
   ]
  },
  {
   "cell_type": "code",
   "execution_count": 2,
   "metadata": {},
   "outputs": [],
   "source": [
    "# Hyperparameters\n",
    "FILTERS = 256\n",
    "BOARD_SHAPE = (1, 12, 8, 8)\n",
    "NUM_BLOCKS = 20"
   ]
  },
  {
   "cell_type": "code",
   "execution_count": 13,
   "metadata": {},
   "outputs": [],
   "source": [
    "def get_current_time():\n",
    "    from datetime import datetime\n",
    "    return datetime.strftime(datetime.now(), \"%Y/%m/%d %H:%M:%S.%f\")\n",
    "\n",
    "def initialise_game():\n",
    "    game = chess.pgn.Game()\n",
    "    board = game.board()\n",
    "    game.headers['Date'] = get_current_time()\n",
    "    game.headers['Black'] = 'Random Agent'\n",
    "    game.headers['White'] = 'Random Agent'\n",
    "    return game, board"
   ]
  },
  {
   "cell_type": "code",
   "execution_count": 14,
   "metadata": {},
   "outputs": [],
   "source": [
    "game, board = initialise_game()"
   ]
  },
  {
   "cell_type": "code",
   "execution_count": 65,
   "metadata": {},
   "outputs": [],
   "source": [
    "def featurise_board(board):    \n",
    "    board_data = np.zeros(shape = (board_depth, 8, 8))\n",
    "    \n",
    "    def int_to_mask(squares):\n",
    "        '''Takes a set of squares as an integer and returns an 8x8 matrix of the marked squares'''\n",
    "        # convert int to binary\n",
    "        squares = np.binary_repr(squares, width = 64)\n",
    "        # break int string into one-hot array\n",
    "        squares = np.array([i for i in squares])\n",
    "        # reshape into 8 by 8 matrix\n",
    "        squares = squares.reshape(8, 8)\n",
    "        # flip along y axis (for some reason)\n",
    "        squares = squares[:, ::-1]\n",
    "        return squares\n",
    "\n",
    "    for i, piece_type in enumerate(it.product(chess.COLORS, chess.PIECE_TYPES)):\n",
    "        colour, piece = piece_type\n",
    "        piece_location = board.pieces_mask(color=colour, piece_type=piece)\n",
    "        board_data[i, :, :] = int_to_mask(piece_location)\n",
    "    \n",
    "    # add castling rights\n",
    "    board_data[-2, :, :] = int_to_mask(board.castling_rights)\n",
    "    # add whose turn it is\n",
    "    board_data[-1, :, :] = board.turn * np.ones(shape=(8,8))\n",
    "            \n",
    "    board_data = board_data.reshape(1, board_depth, 8, 8)\n",
    "    board_data = board_data.astype(np.float32)\n",
    "    return board_data"
   ]
  },
  {
   "cell_type": "code",
   "execution_count": null,
   "metadata": {},
   "outputs": [],
   "source": []
  },
  {
   "cell_type": "code",
   "execution_count": 66,
   "metadata": {},
   "outputs": [
    {
     "data": {
      "text/plain": [
       "(1, 12, 8, 8)"
      ]
     },
     "execution_count": 66,
     "metadata": {},
     "output_type": "execute_result"
    }
   ],
   "source": [
    "featurise_board(board).shape"
   ]
  },
  {
   "cell_type": "code",
   "execution_count": 67,
   "metadata": {},
   "outputs": [
    {
     "data": {
      "text/plain": [
       "False"
      ]
     },
     "execution_count": 67,
     "metadata": {},
     "output_type": "execute_result"
    }
   ],
   "source": [
    "board.is_fivefold_repetition()"
   ]
  },
  {
   "cell_type": "code",
   "execution_count": 68,
   "metadata": {},
   "outputs": [],
   "source": [
    "def uci_to_array(uci):\n",
    "    # initialise as zero\n",
    "    move_data = np.zeros((8, 8, 8, 8))\n",
    "    prom_data = np.zeros(4)\n",
    "    \n",
    "    # build dicts to get board squares and promotion pieces\n",
    "    letters = dict(zip('abcdefgh', range(8)))\n",
    "    prom_dict = dict(zip('qrbn', range(4)))\n",
    "    \n",
    "    if len(uci) == 5:\n",
    "        # extract promotion piece letter\n",
    "        prom_data[prom_dict[uci[-1]]] = 1\n",
    "        # drop promotion piece letter from uci\n",
    "        uci = uci[:-1]\n",
    "    \n",
    "    i, j, k, l = [letters[ch] if ch in letters else int(ch) for ch in uci]\n",
    "    move_data[i, j - 1, k, l - 1] = 1\n",
    "    \n",
    "    # flip axes to align move_array with board features\n",
    "    move_data = move_data[:, ::-1, :, ::-1]\n",
    "    \n",
    "    # reorder move_array axes to match board feature coordinates\n",
    "    move_data = move_data.transpose((1,0,3,2))\n",
    "    \n",
    "    # flatten move_data + prom_data into single array\n",
    "    output = np.concatenate([np.ndarray.flatten(move_data), prom_data])\n",
    "    return output"
   ]
  },
  {
   "cell_type": "code",
   "execution_count": 69,
   "metadata": {},
   "outputs": [],
   "source": [
    "def array_to_uci(move_array, prom_data, promote = False):\n",
    "    move_coords = list(np.vstack(np.where(move_array != 0)).reshape(4))\n",
    "    return coords_to_uci(move_coords, prom_data, promote = promote)"
   ]
  },
  {
   "cell_type": "code",
   "execution_count": 70,
   "metadata": {},
   "outputs": [],
   "source": [
    "def is_pawn_promotion(board, move_data):\n",
    "    '''\n",
    "    Given a board position and a move selection, this returns True\n",
    "    if the given move would promote a pawn to another piece\n",
    "    '''\n",
    "    board_array = featurise_board(board)\n",
    "    \n",
    "    white_pawn = 0\n",
    "    black_pawn = 6\n",
    "    \n",
    "    y1, x1, y2, x2 = np.where(move_data != 0)\n",
    "    # checks which piece is on the current square\n",
    "    piece = np.argmax(board_array[0, :, y1[0], x1[0]])\n",
    "        \n",
    "    if piece == white_pawn and y2[0] == 0:\n",
    "        # the pawn is at the end of the board\n",
    "        return True\n",
    "    elif piece == black_pawn and y2[0] == 7:\n",
    "        # the pawn is at the end of the board\n",
    "        return True\n",
    "    else:\n",
    "        return False"
   ]
  },
  {
   "cell_type": "code",
   "execution_count": 71,
   "metadata": {
    "scrolled": false
   },
   "outputs": [
    {
     "name": "stdout",
     "output_type": "stream",
     "text": [
      "['g8h6', 'g8f6', 'b8c6', 'b8a6', 'h7h6', 'g7g6', 'f7f6', 'e7e6', 'd7d6', 'c7c6', 'b7b6', 'a7a6', 'h7h5', 'g7g5', 'f7f5', 'e7e5', 'd7d5', 'c7c5', 'b7b5', 'a7a5']\n"
     ]
    },
    {
     "data": {
      "image/svg+xml": [
       "<svg height=\"400\" version=\"1.1\" viewBox=\"0 0 400 400\" width=\"400\" xmlns=\"http://www.w3.org/2000/svg\" xmlns:xlink=\"http://www.w3.org/1999/xlink\"><style>.check {\n",
       "  fill: url(#check_gradient);\n",
       "}\n",
       "</style><defs><g class=\"white pawn\" id=\"white-pawn\"><path d=\"M22 9c-2.21 0-4 1.79-4 4 0 .89.29 1.71.78 2.38-1.95 1.12-3.28 3.21-3.28 5.62 0 2.03.94 3.84 2.41 5.03-3 1.06-7.41 5.55-7.41 13.47h23c0-7.92-4.41-12.41-7.41-13.47 1.47-1.19 2.41-3 2.41-5.03 0-2.41-1.33-4.5-3.28-5.62.49-.67.78-1.49.78-2.38 0-2.21-1.79-4-4-4z\" fill=\"#fff\" stroke=\"#000\" stroke-linecap=\"round\" stroke-width=\"1.5\" /></g><g class=\"white knight\" fill=\"none\" fill-rule=\"evenodd\" id=\"white-knight\" stroke=\"#000\" stroke-linecap=\"round\" stroke-linejoin=\"round\" stroke-width=\"1.5\"><path d=\"M 22,10 C 32.5,11 38.5,18 38,39 L 15,39 C 15,30 25,32.5 23,18\" style=\"fill:#ffffff; stroke:#000000;\" /><path d=\"M 24,18 C 24.38,20.91 18.45,25.37 16,27 C 13,29 13.18,31.34 11,31 C 9.958,30.06 12.41,27.96 11,28 C 10,28 11.19,29.23 10,30 C 9,30 5.997,31 6,26 C 6,24 12,14 12,14 C 12,14 13.89,12.1 14,10.5 C 13.27,9.506 13.5,8.5 13.5,7.5 C 14.5,6.5 16.5,10 16.5,10 L 18.5,10 C 18.5,10 19.28,8.008 21,7 C 22,7 22,10 22,10\" style=\"fill:#ffffff; stroke:#000000;\" /><path d=\"M 9.5 25.5 A 0.5 0.5 0 1 1 8.5,25.5 A 0.5 0.5 0 1 1 9.5 25.5 z\" style=\"fill:#000000; stroke:#000000;\" /><path d=\"M 15 15.5 A 0.5 1.5 0 1 1 14,15.5 A 0.5 1.5 0 1 1 15 15.5 z\" style=\"fill:#000000; stroke:#000000;\" transform=\"matrix(0.866,0.5,-0.5,0.866,9.693,-5.173)\" /></g><g class=\"white bishop\" fill=\"none\" fill-rule=\"evenodd\" id=\"white-bishop\" stroke=\"#000\" stroke-linecap=\"round\" stroke-linejoin=\"round\" stroke-width=\"1.5\"><g fill=\"#fff\" stroke-linecap=\"butt\"><path d=\"M9 36c3.39-.97 10.11.43 13.5-2 3.39 2.43 10.11 1.03 13.5 2 0 0 1.65.54 3 2-.68.97-1.65.99-3 .5-3.39-.97-10.11.46-13.5-1-3.39 1.46-10.11.03-13.5 1-1.354.49-2.323.47-3-.5 1.354-1.94 3-2 3-2zM15 32c2.5 2.5 12.5 2.5 15 0 .5-1.5 0-2 0-2 0-2.5-2.5-4-2.5-4 5.5-1.5 6-11.5-5-15.5-11 4-10.5 14-5 15.5 0 0-2.5 1.5-2.5 4 0 0-.5.5 0 2zM25 8a2.5 2.5 0 1 1-5 0 2.5 2.5 0 1 1 5 0z\" /></g><path d=\"M17.5 26h10M15 30h15m-7.5-14.5v5M20 18h5\" stroke-linejoin=\"miter\" /></g><g class=\"white rook\" fill=\"#fff\" fill-rule=\"evenodd\" id=\"white-rook\" stroke=\"#000\" stroke-linecap=\"round\" stroke-linejoin=\"round\" stroke-width=\"1.5\"><path d=\"M9 39h27v-3H9v3zM12 36v-4h21v4H12zM11 14V9h4v2h5V9h5v2h5V9h4v5\" stroke-linecap=\"butt\" /><path d=\"M34 14l-3 3H14l-3-3\" /><path d=\"M31 17v12.5H14V17\" stroke-linecap=\"butt\" stroke-linejoin=\"miter\" /><path d=\"M31 29.5l1.5 2.5h-20l1.5-2.5\" /><path d=\"M11 14h23\" fill=\"none\" stroke-linejoin=\"miter\" /></g><g class=\"white queen\" fill=\"#fff\" fill-rule=\"evenodd\" id=\"white-queen\" stroke=\"#000\" stroke-linecap=\"round\" stroke-linejoin=\"round\" stroke-width=\"1.5\"><path d=\"M8 12a2 2 0 1 1-4 0 2 2 0 1 1 4 0zM24.5 7.5a2 2 0 1 1-4 0 2 2 0 1 1 4 0zM41 12a2 2 0 1 1-4 0 2 2 0 1 1 4 0zM16 8.5a2 2 0 1 1-4 0 2 2 0 1 1 4 0zM33 9a2 2 0 1 1-4 0 2 2 0 1 1 4 0z\" /><path d=\"M9 26c8.5-1.5 21-1.5 27 0l2-12-7 11V11l-5.5 13.5-3-15-3 15-5.5-14V25L7 14l2 12zM9 26c0 2 1.5 2 2.5 4 1 1.5 1 1 .5 3.5-1.5 1-1.5 2.5-1.5 2.5-1.5 1.5.5 2.5.5 2.5 6.5 1 16.5 1 23 0 0 0 1.5-1 0-2.5 0 0 .5-1.5-1-2.5-.5-2.5-.5-2 .5-3.5 1-2 2.5-2 2.5-4-8.5-1.5-18.5-1.5-27 0z\" stroke-linecap=\"butt\" /><path d=\"M11.5 30c3.5-1 18.5-1 22 0M12 33.5c6-1 15-1 21 0\" fill=\"none\" /></g><g class=\"white king\" fill=\"none\" fill-rule=\"evenodd\" id=\"white-king\" stroke=\"#000\" stroke-linecap=\"round\" stroke-linejoin=\"round\" stroke-width=\"1.5\"><path d=\"M22.5 11.63V6M20 8h5\" stroke-linejoin=\"miter\" /><path d=\"M22.5 25s4.5-7.5 3-10.5c0 0-1-2.5-3-2.5s-3 2.5-3 2.5c-1.5 3 3 10.5 3 10.5\" fill=\"#fff\" stroke-linecap=\"butt\" stroke-linejoin=\"miter\" /><path d=\"M11.5 37c5.5 3.5 15.5 3.5 21 0v-7s9-4.5 6-10.5c-4-6.5-13.5-3.5-16 4V27v-3.5c-3.5-7.5-13-10.5-16-4-3 6 5 10 5 10V37z\" fill=\"#fff\" /><path d=\"M11.5 30c5.5-3 15.5-3 21 0m-21 3.5c5.5-3 15.5-3 21 0m-21 3.5c5.5-3 15.5-3 21 0\" /></g><g class=\"black pawn\" id=\"black-pawn\"><path d=\"M22 9c-2.21 0-4 1.79-4 4 0 .89.29 1.71.78 2.38-1.95 1.12-3.28 3.21-3.28 5.62 0 2.03.94 3.84 2.41 5.03-3 1.06-7.41 5.55-7.41 13.47h23c0-7.92-4.41-12.41-7.41-13.47 1.47-1.19 2.41-3 2.41-5.03 0-2.41-1.33-4.5-3.28-5.62.49-.67.78-1.49.78-2.38 0-2.21-1.79-4-4-4z\" stroke=\"#000\" stroke-linecap=\"round\" stroke-width=\"1.5\" /></g><g class=\"black knight\" fill=\"none\" fill-rule=\"evenodd\" id=\"black-knight\" stroke=\"#000\" stroke-linecap=\"round\" stroke-linejoin=\"round\" stroke-width=\"1.5\"><path d=\"M 22,10 C 32.5,11 38.5,18 38,39 L 15,39 C 15,30 25,32.5 23,18\" style=\"fill:#000000; stroke:#000000;\" /><path d=\"M 24,18 C 24.38,20.91 18.45,25.37 16,27 C 13,29 13.18,31.34 11,31 C 9.958,30.06 12.41,27.96 11,28 C 10,28 11.19,29.23 10,30 C 9,30 5.997,31 6,26 C 6,24 12,14 12,14 C 12,14 13.89,12.1 14,10.5 C 13.27,9.506 13.5,8.5 13.5,7.5 C 14.5,6.5 16.5,10 16.5,10 L 18.5,10 C 18.5,10 19.28,8.008 21,7 C 22,7 22,10 22,10\" style=\"fill:#000000; stroke:#000000;\" /><path d=\"M 9.5 25.5 A 0.5 0.5 0 1 1 8.5,25.5 A 0.5 0.5 0 1 1 9.5 25.5 z\" style=\"fill:#ececec; stroke:#ececec;\" /><path d=\"M 15 15.5 A 0.5 1.5 0 1 1 14,15.5 A 0.5 1.5 0 1 1 15 15.5 z\" style=\"fill:#ececec; stroke:#ececec;\" transform=\"matrix(0.866,0.5,-0.5,0.866,9.693,-5.173)\" /><path d=\"M 24.55,10.4 L 24.1,11.85 L 24.6,12 C 27.75,13 30.25,14.49 32.5,18.75 C 34.75,23.01 35.75,29.06 35.25,39 L 35.2,39.5 L 37.45,39.5 L 37.5,39 C 38,28.94 36.62,22.15 34.25,17.66 C 31.88,13.17 28.46,11.02 25.06,10.5 L 24.55,10.4 z \" style=\"fill:#ececec; stroke:none;\" /></g><g class=\"black bishop\" fill=\"none\" fill-rule=\"evenodd\" id=\"black-bishop\" stroke=\"#000\" stroke-linecap=\"round\" stroke-linejoin=\"round\" stroke-width=\"1.5\"><path d=\"M9 36c3.39-.97 10.11.43 13.5-2 3.39 2.43 10.11 1.03 13.5 2 0 0 1.65.54 3 2-.68.97-1.65.99-3 .5-3.39-.97-10.11.46-13.5-1-3.39 1.46-10.11.03-13.5 1-1.354.49-2.323.47-3-.5 1.354-1.94 3-2 3-2zm6-4c2.5 2.5 12.5 2.5 15 0 .5-1.5 0-2 0-2 0-2.5-2.5-4-2.5-4 5.5-1.5 6-11.5-5-15.5-11 4-10.5 14-5 15.5 0 0-2.5 1.5-2.5 4 0 0-.5.5 0 2zM25 8a2.5 2.5 0 1 1-5 0 2.5 2.5 0 1 1 5 0z\" fill=\"#000\" stroke-linecap=\"butt\" /><path d=\"M17.5 26h10M15 30h15m-7.5-14.5v5M20 18h5\" stroke=\"#fff\" stroke-linejoin=\"miter\" /></g><g class=\"black rook\" fill=\"#000\" fill-rule=\"evenodd\" id=\"black-rook\" stroke=\"#000\" stroke-linecap=\"round\" stroke-linejoin=\"round\" stroke-width=\"1.5\"><path d=\"M9 39h27v-3H9v3zM12.5 32l1.5-2.5h17l1.5 2.5h-20zM12 36v-4h21v4H12z\" stroke-linecap=\"butt\" /><path d=\"M14 29.5v-13h17v13H14z\" stroke-linecap=\"butt\" stroke-linejoin=\"miter\" /><path d=\"M14 16.5L11 14h23l-3 2.5H14zM11 14V9h4v2h5V9h5v2h5V9h4v5H11z\" stroke-linecap=\"butt\" /><path d=\"M12 35.5h21M13 31.5h19M14 29.5h17M14 16.5h17M11 14h23\" fill=\"none\" stroke=\"#fff\" stroke-linejoin=\"miter\" stroke-width=\"1\" /></g><g class=\"black queen\" fill=\"#000\" fill-rule=\"evenodd\" id=\"black-queen\" stroke=\"#000\" stroke-linecap=\"round\" stroke-linejoin=\"round\" stroke-width=\"1.5\"><g fill=\"#000\" stroke=\"none\"><circle cx=\"6\" cy=\"12\" r=\"2.75\" /><circle cx=\"14\" cy=\"9\" r=\"2.75\" /><circle cx=\"22.5\" cy=\"8\" r=\"2.75\" /><circle cx=\"31\" cy=\"9\" r=\"2.75\" /><circle cx=\"39\" cy=\"12\" r=\"2.75\" /></g><path d=\"M9 26c8.5-1.5 21-1.5 27 0l2.5-12.5L31 25l-.3-14.1-5.2 13.6-3-14.5-3 14.5-5.2-13.6L14 25 6.5 13.5 9 26zM9 26c0 2 1.5 2 2.5 4 1 1.5 1 1 .5 3.5-1.5 1-1.5 2.5-1.5 2.5-1.5 1.5.5 2.5.5 2.5 6.5 1 16.5 1 23 0 0 0 1.5-1 0-2.5 0 0 .5-1.5-1-2.5-.5-2.5-.5-2 .5-3.5 1-2 2.5-2 2.5-4-8.5-1.5-18.5-1.5-27 0z\" stroke-linecap=\"butt\" /><path d=\"M11 38.5a35 35 1 0 0 23 0\" fill=\"none\" stroke-linecap=\"butt\" /><path d=\"M11 29a35 35 1 0 1 23 0M12.5 31.5h20M11.5 34.5a35 35 1 0 0 22 0M10.5 37.5a35 35 1 0 0 24 0\" fill=\"none\" stroke=\"#fff\" /></g><g class=\"black king\" fill=\"none\" fill-rule=\"evenodd\" id=\"black-king\" stroke=\"#000\" stroke-linecap=\"round\" stroke-linejoin=\"round\" stroke-width=\"1.5\"><path d=\"M22.5 11.63V6\" stroke-linejoin=\"miter\" /><path d=\"M22.5 25s4.5-7.5 3-10.5c0 0-1-2.5-3-2.5s-3 2.5-3 2.5c-1.5 3 3 10.5 3 10.5\" fill=\"#000\" stroke-linecap=\"butt\" stroke-linejoin=\"miter\" /><path d=\"M11.5 37c5.5 3.5 15.5 3.5 21 0v-7s9-4.5 6-10.5c-4-6.5-13.5-3.5-16 4V27v-3.5c-3.5-7.5-13-10.5-16-4-3 6 5 10 5 10V37z\" fill=\"#000\" /><path d=\"M20 8h5\" stroke-linejoin=\"miter\" /><path d=\"M32 29.5s8.5-4 6.03-9.65C34.15 14 25 18 22.5 24.5l.01 2.1-.01-2.1C20 18 9.906 14 6.997 19.85c-2.497 5.65 4.853 9 4.853 9M11.5 30c5.5-3 15.5-3 21 0m-21 3.5c5.5-3 15.5-3 21 0m-21 3.5c5.5-3 15.5-3 21 0\" stroke=\"#fff\" /></g></defs><rect class=\"square dark a1\" fill=\"#d18b47\" height=\"45\" stroke=\"none\" width=\"45\" x=\"20\" y=\"335\" /><use transform=\"translate(20, 335)\" xlink:href=\"#white-rook\" /><rect class=\"square light b1\" fill=\"#ffce9e\" height=\"45\" stroke=\"none\" width=\"45\" x=\"65\" y=\"335\" /><use transform=\"translate(65, 335)\" xlink:href=\"#white-knight\" /><rect class=\"square dark c1\" fill=\"#d18b47\" height=\"45\" stroke=\"none\" width=\"45\" x=\"110\" y=\"335\" /><use transform=\"translate(110, 335)\" xlink:href=\"#white-bishop\" /><rect class=\"square light d1\" fill=\"#ffce9e\" height=\"45\" stroke=\"none\" width=\"45\" x=\"155\" y=\"335\" /><use transform=\"translate(155, 335)\" xlink:href=\"#white-queen\" /><rect class=\"square dark e1\" fill=\"#d18b47\" height=\"45\" stroke=\"none\" width=\"45\" x=\"200\" y=\"335\" /><use transform=\"translate(200, 335)\" xlink:href=\"#white-king\" /><rect class=\"square light f1\" fill=\"#ffce9e\" height=\"45\" stroke=\"none\" width=\"45\" x=\"245\" y=\"335\" /><use transform=\"translate(245, 335)\" xlink:href=\"#white-bishop\" /><rect class=\"square dark g1\" fill=\"#d18b47\" height=\"45\" stroke=\"none\" width=\"45\" x=\"290\" y=\"335\" /><use transform=\"translate(290, 335)\" xlink:href=\"#white-knight\" /><rect class=\"square light h1\" fill=\"#ffce9e\" height=\"45\" stroke=\"none\" width=\"45\" x=\"335\" y=\"335\" /><use transform=\"translate(335, 335)\" xlink:href=\"#white-rook\" /><rect class=\"square light a2\" fill=\"#ffce9e\" height=\"45\" stroke=\"none\" width=\"45\" x=\"20\" y=\"290\" /><use transform=\"translate(20, 290)\" xlink:href=\"#white-pawn\" /><rect class=\"square dark b2\" fill=\"#d18b47\" height=\"45\" stroke=\"none\" width=\"45\" x=\"65\" y=\"290\" /><use transform=\"translate(65, 290)\" xlink:href=\"#white-pawn\" /><rect class=\"square light c2\" fill=\"#ffce9e\" height=\"45\" stroke=\"none\" width=\"45\" x=\"110\" y=\"290\" /><use transform=\"translate(110, 290)\" xlink:href=\"#white-pawn\" /><rect class=\"square dark d2\" fill=\"#d18b47\" height=\"45\" stroke=\"none\" width=\"45\" x=\"155\" y=\"290\" /><use transform=\"translate(155, 290)\" xlink:href=\"#white-pawn\" /><rect class=\"square light e2\" fill=\"#ffce9e\" height=\"45\" stroke=\"none\" width=\"45\" x=\"200\" y=\"290\" /><use transform=\"translate(200, 290)\" xlink:href=\"#white-pawn\" /><rect class=\"square dark f2\" fill=\"#d18b47\" height=\"45\" stroke=\"none\" width=\"45\" x=\"245\" y=\"290\" /><use transform=\"translate(245, 290)\" xlink:href=\"#white-pawn\" /><rect class=\"square light g2\" fill=\"#ffce9e\" height=\"45\" stroke=\"none\" width=\"45\" x=\"290\" y=\"290\" /><use transform=\"translate(290, 290)\" xlink:href=\"#white-pawn\" /><rect class=\"square dark h2\" fill=\"#d18b47\" height=\"45\" stroke=\"none\" width=\"45\" x=\"335\" y=\"290\" /><use transform=\"translate(335, 290)\" xlink:href=\"#white-pawn\" /><rect class=\"square dark a3\" fill=\"#d18b47\" height=\"45\" stroke=\"none\" width=\"45\" x=\"20\" y=\"245\" /><rect class=\"square light b3\" fill=\"#ffce9e\" height=\"45\" stroke=\"none\" width=\"45\" x=\"65\" y=\"245\" /><rect class=\"square dark c3\" fill=\"#d18b47\" height=\"45\" stroke=\"none\" width=\"45\" x=\"110\" y=\"245\" /><rect class=\"square light d3\" fill=\"#ffce9e\" height=\"45\" stroke=\"none\" width=\"45\" x=\"155\" y=\"245\" /><rect class=\"square dark e3\" fill=\"#d18b47\" height=\"45\" stroke=\"none\" width=\"45\" x=\"200\" y=\"245\" /><rect class=\"square light f3\" fill=\"#ffce9e\" height=\"45\" stroke=\"none\" width=\"45\" x=\"245\" y=\"245\" /><rect class=\"square dark g3\" fill=\"#d18b47\" height=\"45\" stroke=\"none\" width=\"45\" x=\"290\" y=\"245\" /><rect class=\"square light h3\" fill=\"#ffce9e\" height=\"45\" stroke=\"none\" width=\"45\" x=\"335\" y=\"245\" /><rect class=\"square light a4\" fill=\"#ffce9e\" height=\"45\" stroke=\"none\" width=\"45\" x=\"20\" y=\"200\" /><rect class=\"square dark b4\" fill=\"#d18b47\" height=\"45\" stroke=\"none\" width=\"45\" x=\"65\" y=\"200\" /><rect class=\"square light c4\" fill=\"#ffce9e\" height=\"45\" stroke=\"none\" width=\"45\" x=\"110\" y=\"200\" /><rect class=\"square dark d4\" fill=\"#d18b47\" height=\"45\" stroke=\"none\" width=\"45\" x=\"155\" y=\"200\" /><rect class=\"square light e4\" fill=\"#ffce9e\" height=\"45\" stroke=\"none\" width=\"45\" x=\"200\" y=\"200\" /><rect class=\"square dark f4\" fill=\"#d18b47\" height=\"45\" stroke=\"none\" width=\"45\" x=\"245\" y=\"200\" /><rect class=\"square light g4\" fill=\"#ffce9e\" height=\"45\" stroke=\"none\" width=\"45\" x=\"290\" y=\"200\" /><rect class=\"square dark h4\" fill=\"#d18b47\" height=\"45\" stroke=\"none\" width=\"45\" x=\"335\" y=\"200\" /><rect class=\"square dark a5\" fill=\"#d18b47\" height=\"45\" stroke=\"none\" width=\"45\" x=\"20\" y=\"155\" /><rect class=\"square light b5\" fill=\"#ffce9e\" height=\"45\" stroke=\"none\" width=\"45\" x=\"65\" y=\"155\" /><rect class=\"square dark c5\" fill=\"#d18b47\" height=\"45\" stroke=\"none\" width=\"45\" x=\"110\" y=\"155\" /><rect class=\"square light d5\" fill=\"#ffce9e\" height=\"45\" stroke=\"none\" width=\"45\" x=\"155\" y=\"155\" /><rect class=\"square dark e5\" fill=\"#d18b47\" height=\"45\" stroke=\"none\" width=\"45\" x=\"200\" y=\"155\" /><rect class=\"square light f5\" fill=\"#ffce9e\" height=\"45\" stroke=\"none\" width=\"45\" x=\"245\" y=\"155\" /><rect class=\"square dark g5\" fill=\"#d18b47\" height=\"45\" stroke=\"none\" width=\"45\" x=\"290\" y=\"155\" /><rect class=\"square light h5\" fill=\"#ffce9e\" height=\"45\" stroke=\"none\" width=\"45\" x=\"335\" y=\"155\" /><rect class=\"square light a6\" fill=\"#ffce9e\" height=\"45\" stroke=\"none\" width=\"45\" x=\"20\" y=\"110\" /><rect class=\"square dark b6\" fill=\"#d18b47\" height=\"45\" stroke=\"none\" width=\"45\" x=\"65\" y=\"110\" /><rect class=\"square light c6\" fill=\"#ffce9e\" height=\"45\" stroke=\"none\" width=\"45\" x=\"110\" y=\"110\" /><rect class=\"square dark d6\" fill=\"#d18b47\" height=\"45\" stroke=\"none\" width=\"45\" x=\"155\" y=\"110\" /><rect class=\"square light e6\" fill=\"#ffce9e\" height=\"45\" stroke=\"none\" width=\"45\" x=\"200\" y=\"110\" /><rect class=\"square dark f6\" fill=\"#d18b47\" height=\"45\" stroke=\"none\" width=\"45\" x=\"245\" y=\"110\" /><rect class=\"square light g6\" fill=\"#ffce9e\" height=\"45\" stroke=\"none\" width=\"45\" x=\"290\" y=\"110\" /><rect class=\"square dark h6\" fill=\"#d18b47\" height=\"45\" stroke=\"none\" width=\"45\" x=\"335\" y=\"110\" /><rect class=\"square dark a7\" fill=\"#d18b47\" height=\"45\" stroke=\"none\" width=\"45\" x=\"20\" y=\"65\" /><use transform=\"translate(20, 65)\" xlink:href=\"#black-pawn\" /><rect class=\"square light b7\" fill=\"#ffce9e\" height=\"45\" stroke=\"none\" width=\"45\" x=\"65\" y=\"65\" /><use transform=\"translate(65, 65)\" xlink:href=\"#black-pawn\" /><rect class=\"square dark c7\" fill=\"#d18b47\" height=\"45\" stroke=\"none\" width=\"45\" x=\"110\" y=\"65\" /><use transform=\"translate(110, 65)\" xlink:href=\"#black-pawn\" /><rect class=\"square light d7\" fill=\"#ffce9e\" height=\"45\" stroke=\"none\" width=\"45\" x=\"155\" y=\"65\" /><use transform=\"translate(155, 65)\" xlink:href=\"#black-pawn\" /><rect class=\"square dark e7\" fill=\"#d18b47\" height=\"45\" stroke=\"none\" width=\"45\" x=\"200\" y=\"65\" /><use transform=\"translate(200, 65)\" xlink:href=\"#black-pawn\" /><rect class=\"square light f7\" fill=\"#ffce9e\" height=\"45\" stroke=\"none\" width=\"45\" x=\"245\" y=\"65\" /><use transform=\"translate(245, 65)\" xlink:href=\"#black-pawn\" /><rect class=\"square dark g7\" fill=\"#d18b47\" height=\"45\" stroke=\"none\" width=\"45\" x=\"290\" y=\"65\" /><use transform=\"translate(290, 65)\" xlink:href=\"#black-pawn\" /><rect class=\"square light h7\" fill=\"#ffce9e\" height=\"45\" stroke=\"none\" width=\"45\" x=\"335\" y=\"65\" /><use transform=\"translate(335, 65)\" xlink:href=\"#black-pawn\" /><rect class=\"square light a8\" fill=\"#ffce9e\" height=\"45\" stroke=\"none\" width=\"45\" x=\"20\" y=\"20\" /><use transform=\"translate(20, 20)\" xlink:href=\"#black-rook\" /><rect class=\"square dark b8\" fill=\"#d18b47\" height=\"45\" stroke=\"none\" width=\"45\" x=\"65\" y=\"20\" /><use transform=\"translate(65, 20)\" xlink:href=\"#black-knight\" /><rect class=\"square light c8\" fill=\"#ffce9e\" height=\"45\" stroke=\"none\" width=\"45\" x=\"110\" y=\"20\" /><use transform=\"translate(110, 20)\" xlink:href=\"#black-bishop\" /><rect class=\"square dark d8\" fill=\"#d18b47\" height=\"45\" stroke=\"none\" width=\"45\" x=\"155\" y=\"20\" /><use transform=\"translate(155, 20)\" xlink:href=\"#black-queen\" /><rect class=\"square light e8\" fill=\"#ffce9e\" height=\"45\" stroke=\"none\" width=\"45\" x=\"200\" y=\"20\" /><use transform=\"translate(200, 20)\" xlink:href=\"#black-king\" /><rect class=\"square dark f8\" fill=\"#d18b47\" height=\"45\" stroke=\"none\" width=\"45\" x=\"245\" y=\"20\" /><use transform=\"translate(245, 20)\" xlink:href=\"#black-bishop\" /><rect class=\"square light g8\" fill=\"#ffce9e\" height=\"45\" stroke=\"none\" width=\"45\" x=\"290\" y=\"20\" /><use transform=\"translate(290, 20)\" xlink:href=\"#black-knight\" /><rect class=\"square dark h8\" fill=\"#d18b47\" height=\"45\" stroke=\"none\" width=\"45\" x=\"335\" y=\"20\" /><use transform=\"translate(335, 20)\" xlink:href=\"#black-rook\" /><text alignment-baseline=\"middle\" font-size=\"14\" text-anchor=\"middle\" x=\"42\" y=\"10\">a</text><text alignment-baseline=\"middle\" font-size=\"14\" text-anchor=\"middle\" x=\"42\" y=\"390\">a</text><text alignment-baseline=\"middle\" font-size=\"14\" text-anchor=\"middle\" x=\"87\" y=\"10\">b</text><text alignment-baseline=\"middle\" font-size=\"14\" text-anchor=\"middle\" x=\"87\" y=\"390\">b</text><text alignment-baseline=\"middle\" font-size=\"14\" text-anchor=\"middle\" x=\"132\" y=\"10\">c</text><text alignment-baseline=\"middle\" font-size=\"14\" text-anchor=\"middle\" x=\"132\" y=\"390\">c</text><text alignment-baseline=\"middle\" font-size=\"14\" text-anchor=\"middle\" x=\"177\" y=\"10\">d</text><text alignment-baseline=\"middle\" font-size=\"14\" text-anchor=\"middle\" x=\"177\" y=\"390\">d</text><text alignment-baseline=\"middle\" font-size=\"14\" text-anchor=\"middle\" x=\"222\" y=\"10\">e</text><text alignment-baseline=\"middle\" font-size=\"14\" text-anchor=\"middle\" x=\"222\" y=\"390\">e</text><text alignment-baseline=\"middle\" font-size=\"14\" text-anchor=\"middle\" x=\"267\" y=\"10\">f</text><text alignment-baseline=\"middle\" font-size=\"14\" text-anchor=\"middle\" x=\"267\" y=\"390\">f</text><text alignment-baseline=\"middle\" font-size=\"14\" text-anchor=\"middle\" x=\"312\" y=\"10\">g</text><text alignment-baseline=\"middle\" font-size=\"14\" text-anchor=\"middle\" x=\"312\" y=\"390\">g</text><text alignment-baseline=\"middle\" font-size=\"14\" text-anchor=\"middle\" x=\"357\" y=\"10\">h</text><text alignment-baseline=\"middle\" font-size=\"14\" text-anchor=\"middle\" x=\"357\" y=\"390\">h</text><text alignment-baseline=\"middle\" font-size=\"14\" text-anchor=\"middle\" x=\"10\" y=\"357\">1</text><text alignment-baseline=\"middle\" font-size=\"14\" text-anchor=\"middle\" x=\"390\" y=\"357\">1</text><text alignment-baseline=\"middle\" font-size=\"14\" text-anchor=\"middle\" x=\"10\" y=\"312\">2</text><text alignment-baseline=\"middle\" font-size=\"14\" text-anchor=\"middle\" x=\"390\" y=\"312\">2</text><text alignment-baseline=\"middle\" font-size=\"14\" text-anchor=\"middle\" x=\"10\" y=\"267\">3</text><text alignment-baseline=\"middle\" font-size=\"14\" text-anchor=\"middle\" x=\"390\" y=\"267\">3</text><text alignment-baseline=\"middle\" font-size=\"14\" text-anchor=\"middle\" x=\"10\" y=\"222\">4</text><text alignment-baseline=\"middle\" font-size=\"14\" text-anchor=\"middle\" x=\"390\" y=\"222\">4</text><text alignment-baseline=\"middle\" font-size=\"14\" text-anchor=\"middle\" x=\"10\" y=\"177\">5</text><text alignment-baseline=\"middle\" font-size=\"14\" text-anchor=\"middle\" x=\"390\" y=\"177\">5</text><text alignment-baseline=\"middle\" font-size=\"14\" text-anchor=\"middle\" x=\"10\" y=\"132\">6</text><text alignment-baseline=\"middle\" font-size=\"14\" text-anchor=\"middle\" x=\"390\" y=\"132\">6</text><text alignment-baseline=\"middle\" font-size=\"14\" text-anchor=\"middle\" x=\"10\" y=\"87\">7</text><text alignment-baseline=\"middle\" font-size=\"14\" text-anchor=\"middle\" x=\"390\" y=\"87\">7</text><text alignment-baseline=\"middle\" font-size=\"14\" text-anchor=\"middle\" x=\"10\" y=\"42\">8</text><text alignment-baseline=\"middle\" font-size=\"14\" text-anchor=\"middle\" x=\"390\" y=\"42\">8</text></svg>"
      ],
      "text/plain": [
       "Board('rnbqkbnr/pppppppp/8/8/8/8/PPPPPPPP/RNBQKBNR b KQkq - 0 1')"
      ]
     },
     "execution_count": 71,
     "metadata": {},
     "output_type": "execute_result"
    }
   ],
   "source": [
    "board = chess.Board()\n",
    "# board.clear_board()\n",
    "# board.set_piece_at(piece=chess.Piece(color=chess.BLACK, piece_type=chess.PAWN),\n",
    "#                    square=chess.H2)\n",
    "# board.set_piece_at(piece=chess.Piece(color=chess.BLACK, piece_type=chess.KNIGHT),\n",
    "#                    square=chess.F3)\n",
    "board.turn = False\n",
    "print([m.uci() for m in board.legal_moves])\n",
    "board"
   ]
  },
  {
   "cell_type": "code",
   "execution_count": 72,
   "metadata": {},
   "outputs": [],
   "source": [
    "def coords_to_uci(move_coords, prom_data, promote = False):\n",
    "    j, i, l, k = move_coords\n",
    "    letters = dict(zip(range(8), 'abcdefgh'))\n",
    "    prom_dict = dict(zip(range(4), 'qrbn'))\n",
    "    result = letters[i] + str(8 - j) + letters[k] + str(8 - l)\n",
    "    if promote:\n",
    "        prom_piece = prom_dict[np.argmax(prom_data)]\n",
    "        return result + prom_piece\n",
    "    else:\n",
    "        return result"
   ]
  },
  {
   "cell_type": "code",
   "execution_count": 73,
   "metadata": {},
   "outputs": [],
   "source": [
    "def int_to_mask(squares):\n",
    "    '''Takes a set of squares as an integer and returns an 8x8 matrix of the marked squares'''\n",
    "    # convert int to binary\n",
    "    squares = np.binary_repr(squares, width = 64)\n",
    "    # break int string into one-hot array\n",
    "    squares = np.array([i for i in squares])\n",
    "    # reshape into 8 by 8 matrix\n",
    "    squares = squares.reshape(8, 8)\n",
    "    # flip along y axis (for some reason)\n",
    "    squares = squares[:, ::-1]\n",
    "    # change type to int\n",
    "    squares = squares.astype(np.int0)\n",
    "    return squares"
   ]
  },
  {
   "cell_type": "code",
   "execution_count": 74,
   "metadata": {},
   "outputs": [],
   "source": [
    "from keras import layers\n",
    "\n",
    "def convolutional_block(X, filters = FILTERS, kernel_size = (3, 3), \n",
    "                        activation = True):\n",
    "    '''\n",
    "    The convolutional block for the network. Performs convolution with a given \n",
    "    number of filters and kernel size.\n",
    "\n",
    "    If an activation is given, then it will be applied to the output before the\n",
    "    result is returned. If you want no activation function, then use \n",
    "    activation = None'''\n",
    "\n",
    "    # run y through convolutional layer\n",
    "    y = layers.Conv2D(\n",
    "            filters = filters, \n",
    "            kernel_size = kernel_size,\n",
    "            data_format = 'channels_first',\n",
    "            padding='same')(X)\n",
    "\n",
    "    # Apply batch normalisation\n",
    "    y = tf.layers.batch_normalization(y)\n",
    "    if activation:\n",
    "        # Apply activation function\n",
    "        y = tf.nn.relu(y)\n",
    "\n",
    "    # return output tensor\n",
    "    return y\n",
    "\n",
    "def residual_tower(X, num_blocks = 10, filters = FILTERS):\n",
    "    '''\n",
    "    Constructs a residual tower consisting of a convolutional block, followed\n",
    "    by a sequence of `num_blocks` residual blocks, each of with a fixed number \n",
    "    of filters.\n",
    "    \n",
    "    The residual tower output is passed to the policy + value heads for\n",
    "    move prediction and board evaluation respectively'''\n",
    "    \n",
    "    def residual_block(X, activation = 'relu'):\n",
    "        '''\n",
    "        '''\n",
    "        y = convolutional_block(X)\n",
    "        y = convolutional_block(y, activation = None)\n",
    "        X = convolutional_block(X, kernel_size = (1, 1), activation = None)\n",
    "        y = tf.nn.relu(X + y)\n",
    "        return y\n",
    "    \n",
    "    # Construct Residual Tower:\n",
    "    y = convolutional_block(X)\n",
    "    \n",
    "    for i in range(num_blocks):\n",
    "        y = residual_block(y)\n",
    "    \n",
    "    return y\n",
    "\n",
    "def policy_head(y):\n",
    "    '''\n",
    "    '''\n",
    "    y = convolutional_block(y, activation = True)\n",
    "    y = layers.Flatten()(y)\n",
    "    y = layers.Dense(units = 64 ** 2 + 4)(y)\n",
    "    y = layers.Activation('softmax')(y)\n",
    "    return y\n",
    "\n",
    "def value_head(y):\n",
    "    '''\n",
    "    '''\n",
    "    y = convolutional_block(y)\n",
    "    y = layers.Flatten()(y)\n",
    "    y = layers.Dense(units = FILTERS, activation = 'relu')(y)\n",
    "    y = layers.Dense(units = 1, activation = 'tanh')(y)\n",
    "    return y"
   ]
  },
  {
   "cell_type": "markdown",
   "metadata": {},
   "source": [
    "Now we can generate random moves, we can build the model into the game simulation engine."
   ]
  },
  {
   "cell_type": "code",
   "execution_count": 75,
   "metadata": {},
   "outputs": [],
   "source": [
    "def simulate_game():\n",
    "    \n",
    "    # build the computational graph\n",
    "    sess = tf.Session()\n",
    "    X = tf.placeholder(dtype = tf.float32, shape = BOARD_SHAPE)\n",
    "    res_output = residual_tower(X, num_blocks = NUM_BLOCKS)\n",
    "    policy = policy_head(res_output)\n",
    "    value = value_head(res_output)\n",
    "    sess.run(tf.global_variables_initializer())\n",
    "    \n",
    "    def get_next_move(board, sess):\n",
    "        input_data = featurise_board(board)\n",
    "\n",
    "        policy_data = np.random.random(size = 4100)\n",
    "\n",
    "        policy_data = sess.run(policy, feed_dict = {X: input_data})\n",
    "\n",
    "        legal_moves = reduce(lambda x, y: x + y, \n",
    "            [uci_to_array(move.uci())[:-4] for move in board.legal_moves])\n",
    "        # convert legal_moves into mask array\n",
    "        legal_moves = legal_moves > 0\n",
    "        legal_moves = legal_moves.reshape(8, 8, 8, 8)\n",
    "\n",
    "        # separate board moves and promotions from the policy head output\n",
    "        move_data = policy_data[0, :8 ** 4].reshape(8, 8, 8, 8)\n",
    "        prom_data = policy_data[0, -4:]\n",
    "\n",
    "        # do not make any illegal board moves\n",
    "        move_data[~legal_moves] = 0\n",
    "\n",
    "        # normalise move array\n",
    "        move_data = move_data / np.sum(move_data)\n",
    "\n",
    "        # select a move\n",
    "        move_selection = np.random.choice(\n",
    "            np.arange(np.sum(move_data > 0)), \n",
    "            p = move_data[move_data > 0])\n",
    "\n",
    "        move_coords = np.vstack(np.where(move_data > 0))[:, move_selection]\n",
    "        i, j, k, l = move_coords\n",
    "\n",
    "        move_array = np.zeros(shape = move_data.shape)\n",
    "        move_array[i, j, k, l] = 1\n",
    "\n",
    "        # remove illegal board positions from policy output\n",
    "        if not is_pawn_promotion(board, move_array):\n",
    "            # do not promote a pawn if it is not legal to do so\n",
    "            prom_data[:] = 0\n",
    "\n",
    "        move_uci = coords_to_uci(\n",
    "            move_coords, \n",
    "            prom_data,\n",
    "            promote = is_pawn_promotion(board, move_array))\n",
    "        \n",
    "        print(move_uci + \", \", end = \"\")\n",
    "        return chess.Move.from_uci(move_uci)\n",
    "    \n",
    "    game, board = initialise_game()\n",
    "    next_move = get_next_move(board, sess)\n",
    "    node = game.add_variation(next_move)\n",
    "    board.push(next_move)\n",
    "    while not board.is_game_over():\n",
    "        next_move = get_next_move(board, sess)\n",
    "        node = node.add_variation(next_move)\n",
    "        board.push(next_move)\n",
    "    \n",
    "    game.headers['Result'] = board.result()\n",
    "    \n",
    "    return game, board"
   ]
  },
  {
   "cell_type": "code",
   "execution_count": 76,
   "metadata": {
    "scrolled": false
   },
   "outputs": [
    {
     "name": "stdout",
     "output_type": "stream",
     "text": [
      "g2g3, e7e5, e2e4, b8a6, g1f3, h7h5, a2a4, f7f6, f1a6, h8h7, f3h4, f8b4, d1g4, d8e7, a6c4, b7b6, f2f4, e8f8r, b1a3, f6f5, c4f7, e5f4, h4g2, f8e8, b2b3, b4a3, f7g8, e7e4, e1f2, e8d8, f2f1, c8a6, d2d3, h7h8, g4e2, a3b2, e2f3, e4b4, a1a2, b4f8r, c2c3, h8h7, f3a8, d7d5, f1f2, d8e8, h1e1, b2a1, a2d2, e8a8, e1d1, f8e8, g8h7, b6b5, g3f4, e8h8, g2e3, a8b8, d2b2, h8e8, f2g1, e8e6, e3c4, e6e2, d1f1, e2b2, c4b6, a7b6, h2h3, b5a4, b3b4, b8c8, h7f5, g7g5, f1d1, b6b5, d1f1, c8f8, f1d1, f8a8, g1f1, b2b1, f1g1, a6b7, f5h7, a8h8, d3d4, b1b3, c1e3, a1b2, g1g2, h8a8, f4f5, a8f8, d1b1, b2a1, g2f2, b3b1, e3g5, b1g1, g5h6, a1b2, h6g5, b2a1, g5e7, f8f6, e7d6, g1e1, d6c5, f6f5, h7f5, b7a6, f5d3, e1d1, c3c4, d1c1, d3b1, a1b2, f2g2, d5c4, b1e4, c1g1, g2f3, g1g2, c5d6, g2d2, e4b1, d2g2, b1e4, g2h2, d6c5, h2h3, f3g2, h3f3, c5a7, c7c5, e4h7, f3g3, g2f1, g3g8, a7c5, g8g6, c5a7, c4c3, d4d5, g6e6, d5d6, a6b7, h7d3, e6e2, d3e4, b2a1, e4d3, e2g2, d3b1, b7d5, a7f2, d5g8, f2e1, g2e2, b1d3, g8c4, d3e2, h5h4, f1f2, a1b2, e2c4, c3c2, c4f7, b2a1, f2e2, a1c3, e1g3, c3h8, e2f1, h8g7, g3e5, h4h3, e5h2, g7h8, f7g6, h8g7, g6e4, g7f6, h2g1, f6a1, f1f2, a1h8, f2g3, h8b2, e4d3, b2c3, g3g4, c3f6, d3f5, f6c3, g4h5, c3g7, g1c5, a4a3, c5a7, g7e5, f5g4, e5d4, g4f5, d4g1, h5g6, c2c1r, g6h5, g1f2, h5g5, c1c7, a7c5, f2g1, f5e6, c7a7, e6f7, h3h2, c5f2, a7f7, g5g4, f7c7, g4g3, c7b7, g3h4, b7b8, h4h5, g1f2, h5g5, b8d8, g5h6, h2h1r, h6g6, h1d1, g6h7, d1d4, d6d7, f2g1, h7h6, d4d7, h6h5, d7d1, h5g5, g1d4, g5f5, d8f8, f5g6, d1d2, g6h7, d4b6, h7h6, d2b2, h6g6, b6e3, g6g7, f8a8, g7f6, b2c2, f6e6, a8e8, e6f7, c2c1, f7g6, e3g5, g6g5, e8e7, g5f5, c1b1, f5g6, a3a2, g6h6, a2a1r, h6g5, e7e3, g5h6, e3e6, h6g5, a1a8, g5g4, e6f6, g4h4, f6c6, h4h5, c6e6, h5g4, a8f8, g4h5, e6a6, h5g5, f8e8, g5f5, b1e1, f5f4, e8e4, f4f5, a6d6, f5g5, d6b6, g5f5, e1b1, f5g5, e4g4, g5f5, b1b2, f5e5, g4e4, e5e4, b2a2, e4d4, b6b7, d4e4, a2f2, e4d3, b7b6, d3c3, f2f3, c3d4, b6d6, d4e4, d6d8, e4f3, d8d6, f3g4, d6a6, g4f4, a6d6, f4e4, d6b6, e4f5, b6d6, f5g4, d6c6, g4f4, c6b6, f4e5, b6b7, e5d6, b7g7, d6e6, g7g4, e6e7, g4c4, e7f7, c4c3, f7f6, c3c8, f6g5, c8a8, g5h6, a8a3, h6g7, a3d3, g7f8, d3d8, f8f7, d8f8, f7g6, f8d8, g6f5, d8d6, f5e4, d6d5, e4d5, [Event \"?\"]\n",
      "[Site \"?\"]\n",
      "[Date \"2017/12/09 12:43:43.001178\"]\n",
      "[Round \"?\"]\n",
      "[White \"Random Agent\"]\n",
      "[Black \"Random Agent\"]\n",
      "[Result \"1/2-1/2\"]\n",
      "\n",
      "1. g3 e5 2. e4 Na6 3. Nf3 h5 4. a4 f6 5. Bxa6 Rh7 6. Nh4 Bb4 7. Qg4 Qe7 8. Bc4 b6 9. f4 Kf8=R 10. Na3 f5 11. Bf7 exf4 12. Ng2 Re8 13. b3 Bxa3 14. Bxg8 Qxe4+ 15. Kf2 Rd8 16. Kf1 Ba6+ 17. d3 Rh8 18. Qe2 Bb2 19. Qf3 Qb4 20. Ra2 Qf8=R 21. c3 Rh7 22. Qxa8 d5 23. Kf2 Rde8 24. Re1 Ba1 25. Rd2 Rxa8 26. Red1 Rfe8 27. Bxh7 b5 28. gxf4 Rh8 29. Ne3 Rab8 30. Rb2 Rhe8 31. Kg1 Re6 32. Nc4 Re2 33. Rf1 Rxb2 34. Nb6 axb6 35. h3 bxa4 36. b4 Rc8 37. Bxf5 g5 38. Rd1 b5 39. Rf1 Rf8 40. Rd1 Ra8 41. Kf1 Rb1 42. Kg1 Bb7 43. Bh7 Rh8 44. d4 Rb3 45. Be3 Bb2 46. Kg2 Ra8 47. f5 Rf8 48. Rb1 Ba1 49. Kf2 Rxb1 50. Bxg5 Rg1 51. Bh6 Bb2 52. Bg5 Ba1 53. Be7 Rf6 54. Bd6 Re1 55. Bc5 Rxf5+ 56. Bxf5 Ba6 57. Bd3 Rd1 58. c4 Rc1 59. Bb1 Bb2 60. Kg2 dxc4 61. Be4 Rg1+ 62. Kf3 Rg2 63. Bd6 Rd2 64. Bb1 Rg2 65. Be4 Rh2 66. Bc5 Rxh3+ 67. Kg2 Rf3 68. Ba7 c5 69. Bh7 Rg3+ 70. Kf1 Rg8 71. Bxc5 Rg6 72. Ba7 c3 73. d5 Re6 74. d6 Bb7 75. Bd3 Re2 76. Be4 Ba1 77. Bd3 Rg2 78. Bb1 Bd5 79. Bf2 Bg8 80. Be1 Re2 81. Bd3 Bc4 82. Bxe2 h4 83. Kf2 Bb2 84. Bxc4 c2 85. Bf7 Ba1 86. Ke2 Bc3 87. Bg3 Bh8 88. Kf1 Bg7 89. Be5 h3 90. Bh2 Bh8 91. Bg6 Bg7 92. Be4 Bf6 93. Bg1 Ba1 94. Kf2 Bh8 95. Kg3 Bb2 96. Bd3 Bc3 97. Kg4 Bf6 98. Bf5 Bc3 99. Kh5 Bg7 100. Bc5 a3 101. Ba7 Be5 102. Bg4 Bd4 103. Bf5 Bg1 104. Kg6 c1=R 105. Kh5 Bf2 106. Kg5 Rc7 107. Bc5 Bg1 108. Be6 Ra7 109. Bf7 h2 110. Bf2 Rxf7 111. Kg4 Rc7 112. Kg3 Rb7 113. Kh4 Rb8 114. Kh5 Bxf2 115. Kg5 Rd8 116. Kh6 h1=R+ 117. Kg6 Rd1 118. Kh7 Rd4 119. d7 Bg1 120. Kh6 R4xd7 121. Kh5 Rd1 122. Kg5 Bd4 123. Kf5 Rf8+ 124. Kg6 Rd2 125. Kh7 Bb6 126. Kh6 Rb2 127. Kg6 Be3 128. Kg7 Ra8 129. Kf6 Rc2 130. Ke6 Re8+ 131. Kf7 Rc1 132. Kg6 Bg5 133. Kxg5 Re7 134. Kf5 Rb1 135. Kg6 a2 136. Kh6 a1=R 137. Kg5 Re3 138. Kh6 Re6+ 139. Kg5 Ra8 140. Kg4 Rf6 141. Kh4 Rc6 142. Kh5 Re6 143. Kg4 Rf8 144. Kh5 Ra6 145. Kg5 Re8 146. Kf5 Rbe1 147. Kf4 R8e4+ 148. Kf5 Rd6 149. Kg5 Rb6 150. Kf5 Rb1 151. Kg5 Rg4+ 152. Kf5 Rb2 153. Ke5 Re4+ 154. Kxe4 Ra2 155. Kd4 Rb7 156. Ke4 Rf2 157. Kd3 Rb6 158. Kc3 Rf3+ 159. Kd4 Rd6+ 160. Ke4 Rd8 161. Kxf3 Rd6 162. Kg4 Ra6 163. Kf4 Rd6 164. Ke4 Rb6 165. Kf5 Rd6 166. Kg4 Rc6 167. Kf4 Rb6 168. Ke5 Rb7 169. Kd6 Rg7 170. Ke6 Rg4 171. Ke7 Rc4 172. Kf7 Rc3 173. Kf6 Rc8 174. Kg5 Ra8 175. Kh6 Ra3 176. Kg7 Rd3 177. Kf8 Rd8+ 178. Kf7 Rf8+ 179. Kg6 Rd8 180. Kf5 Rd6 181. Ke4 Rd5 182. Kxd5 1/2-1/2\n",
      "Wall time: 1min 24s\n"
     ]
    }
   ],
   "source": [
    "%%time\n",
    "tf.reset_default_graph()\n",
    "game, board = simulate_game()\n",
    "print(game)"
   ]
  },
  {
   "cell_type": "code",
   "execution_count": 77,
   "metadata": {},
   "outputs": [
    {
     "data": {
      "image/svg+xml": [
       "<svg height=\"400\" version=\"1.1\" viewBox=\"0 0 400 400\" width=\"400\" xmlns=\"http://www.w3.org/2000/svg\" xmlns:xlink=\"http://www.w3.org/1999/xlink\"><style>.check {\n",
       "  fill: url(#check_gradient);\n",
       "}\n",
       "</style><defs><g class=\"white pawn\" id=\"white-pawn\"><path d=\"M22 9c-2.21 0-4 1.79-4 4 0 .89.29 1.71.78 2.38-1.95 1.12-3.28 3.21-3.28 5.62 0 2.03.94 3.84 2.41 5.03-3 1.06-7.41 5.55-7.41 13.47h23c0-7.92-4.41-12.41-7.41-13.47 1.47-1.19 2.41-3 2.41-5.03 0-2.41-1.33-4.5-3.28-5.62.49-.67.78-1.49.78-2.38 0-2.21-1.79-4-4-4z\" fill=\"#fff\" stroke=\"#000\" stroke-linecap=\"round\" stroke-width=\"1.5\" /></g><g class=\"white king\" fill=\"none\" fill-rule=\"evenodd\" id=\"white-king\" stroke=\"#000\" stroke-linecap=\"round\" stroke-linejoin=\"round\" stroke-width=\"1.5\"><path d=\"M22.5 11.63V6M20 8h5\" stroke-linejoin=\"miter\" /><path d=\"M22.5 25s4.5-7.5 3-10.5c0 0-1-2.5-3-2.5s-3 2.5-3 2.5c-1.5 3 3 10.5 3 10.5\" fill=\"#fff\" stroke-linecap=\"butt\" stroke-linejoin=\"miter\" /><path d=\"M11.5 37c5.5 3.5 15.5 3.5 21 0v-7s9-4.5 6-10.5c-4-6.5-13.5-3.5-16 4V27v-3.5c-3.5-7.5-13-10.5-16-4-3 6 5 10 5 10V37z\" fill=\"#fff\" /><path d=\"M11.5 30c5.5-3 15.5-3 21 0m-21 3.5c5.5-3 15.5-3 21 0m-21 3.5c5.5-3 15.5-3 21 0\" /></g><g class=\"black pawn\" id=\"black-pawn\"><path d=\"M22 9c-2.21 0-4 1.79-4 4 0 .89.29 1.71.78 2.38-1.95 1.12-3.28 3.21-3.28 5.62 0 2.03.94 3.84 2.41 5.03-3 1.06-7.41 5.55-7.41 13.47h23c0-7.92-4.41-12.41-7.41-13.47 1.47-1.19 2.41-3 2.41-5.03 0-2.41-1.33-4.5-3.28-5.62.49-.67.78-1.49.78-2.38 0-2.21-1.79-4-4-4z\" stroke=\"#000\" stroke-linecap=\"round\" stroke-width=\"1.5\" /></g></defs><rect class=\"square dark a1\" fill=\"#d18b47\" height=\"45\" stroke=\"none\" width=\"45\" x=\"20\" y=\"335\" /><rect class=\"square light b1\" fill=\"#ffce9e\" height=\"45\" stroke=\"none\" width=\"45\" x=\"65\" y=\"335\" /><rect class=\"square dark c1\" fill=\"#d18b47\" height=\"45\" stroke=\"none\" width=\"45\" x=\"110\" y=\"335\" /><rect class=\"square light d1\" fill=\"#ffce9e\" height=\"45\" stroke=\"none\" width=\"45\" x=\"155\" y=\"335\" /><rect class=\"square dark e1\" fill=\"#d18b47\" height=\"45\" stroke=\"none\" width=\"45\" x=\"200\" y=\"335\" /><rect class=\"square light f1\" fill=\"#ffce9e\" height=\"45\" stroke=\"none\" width=\"45\" x=\"245\" y=\"335\" /><rect class=\"square dark g1\" fill=\"#d18b47\" height=\"45\" stroke=\"none\" width=\"45\" x=\"290\" y=\"335\" /><rect class=\"square light h1\" fill=\"#ffce9e\" height=\"45\" stroke=\"none\" width=\"45\" x=\"335\" y=\"335\" /><rect class=\"square light a2\" fill=\"#ffce9e\" height=\"45\" stroke=\"none\" width=\"45\" x=\"20\" y=\"290\" /><rect class=\"square dark b2\" fill=\"#d18b47\" height=\"45\" stroke=\"none\" width=\"45\" x=\"65\" y=\"290\" /><rect class=\"square light c2\" fill=\"#ffce9e\" height=\"45\" stroke=\"none\" width=\"45\" x=\"110\" y=\"290\" /><rect class=\"square dark d2\" fill=\"#d18b47\" height=\"45\" stroke=\"none\" width=\"45\" x=\"155\" y=\"290\" /><rect class=\"square light e2\" fill=\"#ffce9e\" height=\"45\" stroke=\"none\" width=\"45\" x=\"200\" y=\"290\" /><rect class=\"square dark f2\" fill=\"#d18b47\" height=\"45\" stroke=\"none\" width=\"45\" x=\"245\" y=\"290\" /><rect class=\"square light g2\" fill=\"#ffce9e\" height=\"45\" stroke=\"none\" width=\"45\" x=\"290\" y=\"290\" /><rect class=\"square dark h2\" fill=\"#d18b47\" height=\"45\" stroke=\"none\" width=\"45\" x=\"335\" y=\"290\" /><rect class=\"square dark a3\" fill=\"#d18b47\" height=\"45\" stroke=\"none\" width=\"45\" x=\"20\" y=\"245\" /><rect class=\"square light b3\" fill=\"#ffce9e\" height=\"45\" stroke=\"none\" width=\"45\" x=\"65\" y=\"245\" /><rect class=\"square dark c3\" fill=\"#d18b47\" height=\"45\" stroke=\"none\" width=\"45\" x=\"110\" y=\"245\" /><rect class=\"square light d3\" fill=\"#ffce9e\" height=\"45\" stroke=\"none\" width=\"45\" x=\"155\" y=\"245\" /><rect class=\"square dark e3\" fill=\"#d18b47\" height=\"45\" stroke=\"none\" width=\"45\" x=\"200\" y=\"245\" /><rect class=\"square light f3\" fill=\"#ffce9e\" height=\"45\" stroke=\"none\" width=\"45\" x=\"245\" y=\"245\" /><rect class=\"square dark g3\" fill=\"#d18b47\" height=\"45\" stroke=\"none\" width=\"45\" x=\"290\" y=\"245\" /><rect class=\"square light h3\" fill=\"#ffce9e\" height=\"45\" stroke=\"none\" width=\"45\" x=\"335\" y=\"245\" /><rect class=\"square light a4\" fill=\"#ffce9e\" height=\"45\" stroke=\"none\" width=\"45\" x=\"20\" y=\"200\" /><rect class=\"square dark b4\" fill=\"#d18b47\" height=\"45\" stroke=\"none\" width=\"45\" x=\"65\" y=\"200\" /><use transform=\"translate(65, 200)\" xlink:href=\"#white-pawn\" /><rect class=\"square light c4\" fill=\"#ffce9e\" height=\"45\" stroke=\"none\" width=\"45\" x=\"110\" y=\"200\" /><rect class=\"square dark d4\" fill=\"#d18b47\" height=\"45\" stroke=\"none\" width=\"45\" x=\"155\" y=\"200\" /><rect class=\"square light lastmove e4\" fill=\"#cdd16a\" height=\"45\" stroke=\"none\" width=\"45\" x=\"200\" y=\"200\" /><rect class=\"square dark f4\" fill=\"#d18b47\" height=\"45\" stroke=\"none\" width=\"45\" x=\"245\" y=\"200\" /><rect class=\"square light g4\" fill=\"#ffce9e\" height=\"45\" stroke=\"none\" width=\"45\" x=\"290\" y=\"200\" /><rect class=\"square dark h4\" fill=\"#d18b47\" height=\"45\" stroke=\"none\" width=\"45\" x=\"335\" y=\"200\" /><rect class=\"square dark a5\" fill=\"#d18b47\" height=\"45\" stroke=\"none\" width=\"45\" x=\"20\" y=\"155\" /><rect class=\"square light b5\" fill=\"#ffce9e\" height=\"45\" stroke=\"none\" width=\"45\" x=\"65\" y=\"155\" /><use transform=\"translate(65, 155)\" xlink:href=\"#black-pawn\" /><rect class=\"square dark c5\" fill=\"#d18b47\" height=\"45\" stroke=\"none\" width=\"45\" x=\"110\" y=\"155\" /><rect class=\"square light lastmove d5\" fill=\"#cdd16a\" height=\"45\" stroke=\"none\" width=\"45\" x=\"155\" y=\"155\" /><use transform=\"translate(155, 155)\" xlink:href=\"#white-king\" /><rect class=\"square dark e5\" fill=\"#d18b47\" height=\"45\" stroke=\"none\" width=\"45\" x=\"200\" y=\"155\" /><rect class=\"square light f5\" fill=\"#ffce9e\" height=\"45\" stroke=\"none\" width=\"45\" x=\"245\" y=\"155\" /><rect class=\"square dark g5\" fill=\"#d18b47\" height=\"45\" stroke=\"none\" width=\"45\" x=\"290\" y=\"155\" /><rect class=\"square light h5\" fill=\"#ffce9e\" height=\"45\" stroke=\"none\" width=\"45\" x=\"335\" y=\"155\" /><rect class=\"square light a6\" fill=\"#ffce9e\" height=\"45\" stroke=\"none\" width=\"45\" x=\"20\" y=\"110\" /><rect class=\"square dark b6\" fill=\"#d18b47\" height=\"45\" stroke=\"none\" width=\"45\" x=\"65\" y=\"110\" /><rect class=\"square light c6\" fill=\"#ffce9e\" height=\"45\" stroke=\"none\" width=\"45\" x=\"110\" y=\"110\" /><rect class=\"square dark d6\" fill=\"#d18b47\" height=\"45\" stroke=\"none\" width=\"45\" x=\"155\" y=\"110\" /><rect class=\"square light e6\" fill=\"#ffce9e\" height=\"45\" stroke=\"none\" width=\"45\" x=\"200\" y=\"110\" /><rect class=\"square dark f6\" fill=\"#d18b47\" height=\"45\" stroke=\"none\" width=\"45\" x=\"245\" y=\"110\" /><rect class=\"square light g6\" fill=\"#ffce9e\" height=\"45\" stroke=\"none\" width=\"45\" x=\"290\" y=\"110\" /><rect class=\"square dark h6\" fill=\"#d18b47\" height=\"45\" stroke=\"none\" width=\"45\" x=\"335\" y=\"110\" /><rect class=\"square dark a7\" fill=\"#d18b47\" height=\"45\" stroke=\"none\" width=\"45\" x=\"20\" y=\"65\" /><rect class=\"square light b7\" fill=\"#ffce9e\" height=\"45\" stroke=\"none\" width=\"45\" x=\"65\" y=\"65\" /><rect class=\"square dark c7\" fill=\"#d18b47\" height=\"45\" stroke=\"none\" width=\"45\" x=\"110\" y=\"65\" /><rect class=\"square light d7\" fill=\"#ffce9e\" height=\"45\" stroke=\"none\" width=\"45\" x=\"155\" y=\"65\" /><rect class=\"square dark e7\" fill=\"#d18b47\" height=\"45\" stroke=\"none\" width=\"45\" x=\"200\" y=\"65\" /><rect class=\"square light f7\" fill=\"#ffce9e\" height=\"45\" stroke=\"none\" width=\"45\" x=\"245\" y=\"65\" /><rect class=\"square dark g7\" fill=\"#d18b47\" height=\"45\" stroke=\"none\" width=\"45\" x=\"290\" y=\"65\" /><rect class=\"square light h7\" fill=\"#ffce9e\" height=\"45\" stroke=\"none\" width=\"45\" x=\"335\" y=\"65\" /><rect class=\"square light a8\" fill=\"#ffce9e\" height=\"45\" stroke=\"none\" width=\"45\" x=\"20\" y=\"20\" /><rect class=\"square dark b8\" fill=\"#d18b47\" height=\"45\" stroke=\"none\" width=\"45\" x=\"65\" y=\"20\" /><rect class=\"square light c8\" fill=\"#ffce9e\" height=\"45\" stroke=\"none\" width=\"45\" x=\"110\" y=\"20\" /><rect class=\"square dark d8\" fill=\"#d18b47\" height=\"45\" stroke=\"none\" width=\"45\" x=\"155\" y=\"20\" /><rect class=\"square light e8\" fill=\"#ffce9e\" height=\"45\" stroke=\"none\" width=\"45\" x=\"200\" y=\"20\" /><rect class=\"square dark f8\" fill=\"#d18b47\" height=\"45\" stroke=\"none\" width=\"45\" x=\"245\" y=\"20\" /><rect class=\"square light g8\" fill=\"#ffce9e\" height=\"45\" stroke=\"none\" width=\"45\" x=\"290\" y=\"20\" /><rect class=\"square dark h8\" fill=\"#d18b47\" height=\"45\" stroke=\"none\" width=\"45\" x=\"335\" y=\"20\" /><text alignment-baseline=\"middle\" font-size=\"14\" text-anchor=\"middle\" x=\"42\" y=\"10\">a</text><text alignment-baseline=\"middle\" font-size=\"14\" text-anchor=\"middle\" x=\"42\" y=\"390\">a</text><text alignment-baseline=\"middle\" font-size=\"14\" text-anchor=\"middle\" x=\"87\" y=\"10\">b</text><text alignment-baseline=\"middle\" font-size=\"14\" text-anchor=\"middle\" x=\"87\" y=\"390\">b</text><text alignment-baseline=\"middle\" font-size=\"14\" text-anchor=\"middle\" x=\"132\" y=\"10\">c</text><text alignment-baseline=\"middle\" font-size=\"14\" text-anchor=\"middle\" x=\"132\" y=\"390\">c</text><text alignment-baseline=\"middle\" font-size=\"14\" text-anchor=\"middle\" x=\"177\" y=\"10\">d</text><text alignment-baseline=\"middle\" font-size=\"14\" text-anchor=\"middle\" x=\"177\" y=\"390\">d</text><text alignment-baseline=\"middle\" font-size=\"14\" text-anchor=\"middle\" x=\"222\" y=\"10\">e</text><text alignment-baseline=\"middle\" font-size=\"14\" text-anchor=\"middle\" x=\"222\" y=\"390\">e</text><text alignment-baseline=\"middle\" font-size=\"14\" text-anchor=\"middle\" x=\"267\" y=\"10\">f</text><text alignment-baseline=\"middle\" font-size=\"14\" text-anchor=\"middle\" x=\"267\" y=\"390\">f</text><text alignment-baseline=\"middle\" font-size=\"14\" text-anchor=\"middle\" x=\"312\" y=\"10\">g</text><text alignment-baseline=\"middle\" font-size=\"14\" text-anchor=\"middle\" x=\"312\" y=\"390\">g</text><text alignment-baseline=\"middle\" font-size=\"14\" text-anchor=\"middle\" x=\"357\" y=\"10\">h</text><text alignment-baseline=\"middle\" font-size=\"14\" text-anchor=\"middle\" x=\"357\" y=\"390\">h</text><text alignment-baseline=\"middle\" font-size=\"14\" text-anchor=\"middle\" x=\"10\" y=\"357\">1</text><text alignment-baseline=\"middle\" font-size=\"14\" text-anchor=\"middle\" x=\"390\" y=\"357\">1</text><text alignment-baseline=\"middle\" font-size=\"14\" text-anchor=\"middle\" x=\"10\" y=\"312\">2</text><text alignment-baseline=\"middle\" font-size=\"14\" text-anchor=\"middle\" x=\"390\" y=\"312\">2</text><text alignment-baseline=\"middle\" font-size=\"14\" text-anchor=\"middle\" x=\"10\" y=\"267\">3</text><text alignment-baseline=\"middle\" font-size=\"14\" text-anchor=\"middle\" x=\"390\" y=\"267\">3</text><text alignment-baseline=\"middle\" font-size=\"14\" text-anchor=\"middle\" x=\"10\" y=\"222\">4</text><text alignment-baseline=\"middle\" font-size=\"14\" text-anchor=\"middle\" x=\"390\" y=\"222\">4</text><text alignment-baseline=\"middle\" font-size=\"14\" text-anchor=\"middle\" x=\"10\" y=\"177\">5</text><text alignment-baseline=\"middle\" font-size=\"14\" text-anchor=\"middle\" x=\"390\" y=\"177\">5</text><text alignment-baseline=\"middle\" font-size=\"14\" text-anchor=\"middle\" x=\"10\" y=\"132\">6</text><text alignment-baseline=\"middle\" font-size=\"14\" text-anchor=\"middle\" x=\"390\" y=\"132\">6</text><text alignment-baseline=\"middle\" font-size=\"14\" text-anchor=\"middle\" x=\"10\" y=\"87\">7</text><text alignment-baseline=\"middle\" font-size=\"14\" text-anchor=\"middle\" x=\"390\" y=\"87\">7</text><text alignment-baseline=\"middle\" font-size=\"14\" text-anchor=\"middle\" x=\"10\" y=\"42\">8</text><text alignment-baseline=\"middle\" font-size=\"14\" text-anchor=\"middle\" x=\"390\" y=\"42\">8</text></svg>"
      ],
      "text/plain": [
       "Board('8/8/8/1p1K4/1P6/8/8/8 b - - 0 182')"
      ]
     },
     "execution_count": 77,
     "metadata": {},
     "output_type": "execute_result"
    }
   ],
   "source": [
    "board"
   ]
  },
  {
   "cell_type": "code",
   "execution_count": 78,
   "metadata": {
    "scrolled": true
   },
   "outputs": [
    {
     "data": {
      "text/plain": [
       "2719"
      ]
     },
     "execution_count": 78,
     "metadata": {},
     "output_type": "execute_result"
    }
   ],
   "source": [
    "len(tf.get_default_graph().get_operations())"
   ]
  },
  {
   "cell_type": "code",
   "execution_count": 86,
   "metadata": {},
   "outputs": [
    {
     "data": {
      "text/plain": [
       "'. . . . . . . .\\n. . . . . . . .\\n. . . . . . . .\\n. p . K . . . .\\n. P . . . . . .\\n. . . . . . . .\\n. . . . . . . .\\n. . . . . . . .'"
      ]
     },
     "execution_count": 86,
     "metadata": {},
     "output_type": "execute_result"
    }
   ],
   "source": [
    "str(board)"
   ]
  },
  {
   "cell_type": "code",
   "execution_count": 80,
   "metadata": {},
   "outputs": [
    {
     "data": {
      "text/plain": [
       "['g2g3',\n",
       " 'e7e5',\n",
       " 'e2e4',\n",
       " 'b8a6',\n",
       " 'g1f3',\n",
       " 'h7h5',\n",
       " 'a2a4',\n",
       " 'f7f6',\n",
       " 'f1a6',\n",
       " 'h8h7',\n",
       " 'f3h4',\n",
       " 'f8b4',\n",
       " 'd1g4',\n",
       " 'd8e7',\n",
       " 'a6c4',\n",
       " 'b7b6',\n",
       " 'f2f4',\n",
       " 'e8f8r',\n",
       " 'b1a3',\n",
       " 'f6f5',\n",
       " 'c4f7',\n",
       " 'e5f4',\n",
       " 'h4g2',\n",
       " 'f8e8',\n",
       " 'b2b3',\n",
       " 'b4a3',\n",
       " 'f7g8',\n",
       " 'e7e4',\n",
       " 'e1f2',\n",
       " 'e8d8',\n",
       " 'f2f1',\n",
       " 'c8a6',\n",
       " 'd2d3',\n",
       " 'h7h8',\n",
       " 'g4e2',\n",
       " 'a3b2',\n",
       " 'e2f3',\n",
       " 'e4b4',\n",
       " 'a1a2',\n",
       " 'b4f8r',\n",
       " 'c2c3',\n",
       " 'h8h7',\n",
       " 'f3a8',\n",
       " 'd7d5',\n",
       " 'f1f2',\n",
       " 'd8e8',\n",
       " 'h1e1',\n",
       " 'b2a1',\n",
       " 'a2d2',\n",
       " 'e8a8',\n",
       " 'e1d1',\n",
       " 'f8e8',\n",
       " 'g8h7',\n",
       " 'b6b5',\n",
       " 'g3f4',\n",
       " 'e8h8',\n",
       " 'g2e3',\n",
       " 'a8b8',\n",
       " 'd2b2',\n",
       " 'h8e8',\n",
       " 'f2g1',\n",
       " 'e8e6',\n",
       " 'e3c4',\n",
       " 'e6e2',\n",
       " 'd1f1',\n",
       " 'e2b2',\n",
       " 'c4b6',\n",
       " 'a7b6',\n",
       " 'h2h3',\n",
       " 'b5a4',\n",
       " 'b3b4',\n",
       " 'b8c8',\n",
       " 'h7f5',\n",
       " 'g7g5',\n",
       " 'f1d1',\n",
       " 'b6b5',\n",
       " 'd1f1',\n",
       " 'c8f8',\n",
       " 'f1d1',\n",
       " 'f8a8',\n",
       " 'g1f1',\n",
       " 'b2b1',\n",
       " 'f1g1',\n",
       " 'a6b7',\n",
       " 'f5h7',\n",
       " 'a8h8',\n",
       " 'd3d4',\n",
       " 'b1b3',\n",
       " 'c1e3',\n",
       " 'a1b2',\n",
       " 'g1g2',\n",
       " 'h8a8',\n",
       " 'f4f5',\n",
       " 'a8f8',\n",
       " 'd1b1',\n",
       " 'b2a1',\n",
       " 'g2f2',\n",
       " 'b3b1',\n",
       " 'e3g5',\n",
       " 'b1g1',\n",
       " 'g5h6',\n",
       " 'a1b2',\n",
       " 'h6g5',\n",
       " 'b2a1',\n",
       " 'g5e7',\n",
       " 'f8f6',\n",
       " 'e7d6',\n",
       " 'g1e1',\n",
       " 'd6c5',\n",
       " 'f6f5',\n",
       " 'h7f5',\n",
       " 'b7a6',\n",
       " 'f5d3',\n",
       " 'e1d1',\n",
       " 'c3c4',\n",
       " 'd1c1',\n",
       " 'd3b1',\n",
       " 'a1b2',\n",
       " 'f2g2',\n",
       " 'd5c4',\n",
       " 'b1e4',\n",
       " 'c1g1',\n",
       " 'g2f3',\n",
       " 'g1g2',\n",
       " 'c5d6',\n",
       " 'g2d2',\n",
       " 'e4b1',\n",
       " 'd2g2',\n",
       " 'b1e4',\n",
       " 'g2h2',\n",
       " 'd6c5',\n",
       " 'h2h3',\n",
       " 'f3g2',\n",
       " 'h3f3',\n",
       " 'c5a7',\n",
       " 'c7c5',\n",
       " 'e4h7',\n",
       " 'f3g3',\n",
       " 'g2f1',\n",
       " 'g3g8',\n",
       " 'a7c5',\n",
       " 'g8g6',\n",
       " 'c5a7',\n",
       " 'c4c3',\n",
       " 'd4d5',\n",
       " 'g6e6',\n",
       " 'd5d6',\n",
       " 'a6b7',\n",
       " 'h7d3',\n",
       " 'e6e2',\n",
       " 'd3e4',\n",
       " 'b2a1',\n",
       " 'e4d3',\n",
       " 'e2g2',\n",
       " 'd3b1',\n",
       " 'b7d5',\n",
       " 'a7f2',\n",
       " 'd5g8',\n",
       " 'f2e1',\n",
       " 'g2e2',\n",
       " 'b1d3',\n",
       " 'g8c4',\n",
       " 'd3e2',\n",
       " 'h5h4',\n",
       " 'f1f2',\n",
       " 'a1b2',\n",
       " 'e2c4',\n",
       " 'c3c2',\n",
       " 'c4f7',\n",
       " 'b2a1',\n",
       " 'f2e2',\n",
       " 'a1c3',\n",
       " 'e1g3',\n",
       " 'c3h8',\n",
       " 'e2f1',\n",
       " 'h8g7',\n",
       " 'g3e5',\n",
       " 'h4h3',\n",
       " 'e5h2',\n",
       " 'g7h8',\n",
       " 'f7g6',\n",
       " 'h8g7',\n",
       " 'g6e4',\n",
       " 'g7f6',\n",
       " 'h2g1',\n",
       " 'f6a1',\n",
       " 'f1f2',\n",
       " 'a1h8',\n",
       " 'f2g3',\n",
       " 'h8b2',\n",
       " 'e4d3',\n",
       " 'b2c3',\n",
       " 'g3g4',\n",
       " 'c3f6',\n",
       " 'd3f5',\n",
       " 'f6c3',\n",
       " 'g4h5',\n",
       " 'c3g7',\n",
       " 'g1c5',\n",
       " 'a4a3',\n",
       " 'c5a7',\n",
       " 'g7e5',\n",
       " 'f5g4',\n",
       " 'e5d4',\n",
       " 'g4f5',\n",
       " 'd4g1',\n",
       " 'h5g6',\n",
       " 'c2c1r',\n",
       " 'g6h5',\n",
       " 'g1f2',\n",
       " 'h5g5',\n",
       " 'c1c7',\n",
       " 'a7c5',\n",
       " 'f2g1',\n",
       " 'f5e6',\n",
       " 'c7a7',\n",
       " 'e6f7',\n",
       " 'h3h2',\n",
       " 'c5f2',\n",
       " 'a7f7',\n",
       " 'g5g4',\n",
       " 'f7c7',\n",
       " 'g4g3',\n",
       " 'c7b7',\n",
       " 'g3h4',\n",
       " 'b7b8',\n",
       " 'h4h5',\n",
       " 'g1f2',\n",
       " 'h5g5',\n",
       " 'b8d8',\n",
       " 'g5h6',\n",
       " 'h2h1r',\n",
       " 'h6g6',\n",
       " 'h1d1',\n",
       " 'g6h7',\n",
       " 'd1d4',\n",
       " 'd6d7',\n",
       " 'f2g1',\n",
       " 'h7h6',\n",
       " 'd4d7',\n",
       " 'h6h5',\n",
       " 'd7d1',\n",
       " 'h5g5',\n",
       " 'g1d4',\n",
       " 'g5f5',\n",
       " 'd8f8',\n",
       " 'f5g6',\n",
       " 'd1d2',\n",
       " 'g6h7',\n",
       " 'd4b6',\n",
       " 'h7h6',\n",
       " 'd2b2',\n",
       " 'h6g6',\n",
       " 'b6e3',\n",
       " 'g6g7',\n",
       " 'f8a8',\n",
       " 'g7f6',\n",
       " 'b2c2',\n",
       " 'f6e6',\n",
       " 'a8e8',\n",
       " 'e6f7',\n",
       " 'c2c1',\n",
       " 'f7g6',\n",
       " 'e3g5',\n",
       " 'g6g5',\n",
       " 'e8e7',\n",
       " 'g5f5',\n",
       " 'c1b1',\n",
       " 'f5g6',\n",
       " 'a3a2',\n",
       " 'g6h6',\n",
       " 'a2a1r',\n",
       " 'h6g5',\n",
       " 'e7e3',\n",
       " 'g5h6',\n",
       " 'e3e6',\n",
       " 'h6g5',\n",
       " 'a1a8',\n",
       " 'g5g4',\n",
       " 'e6f6',\n",
       " 'g4h4',\n",
       " 'f6c6',\n",
       " 'h4h5',\n",
       " 'c6e6',\n",
       " 'h5g4',\n",
       " 'a8f8',\n",
       " 'g4h5',\n",
       " 'e6a6',\n",
       " 'h5g5',\n",
       " 'f8e8',\n",
       " 'g5f5',\n",
       " 'b1e1',\n",
       " 'f5f4',\n",
       " 'e8e4',\n",
       " 'f4f5',\n",
       " 'a6d6',\n",
       " 'f5g5',\n",
       " 'd6b6',\n",
       " 'g5f5',\n",
       " 'e1b1',\n",
       " 'f5g5',\n",
       " 'e4g4',\n",
       " 'g5f5',\n",
       " 'b1b2',\n",
       " 'f5e5',\n",
       " 'g4e4',\n",
       " 'e5e4',\n",
       " 'b2a2',\n",
       " 'e4d4',\n",
       " 'b6b7',\n",
       " 'd4e4',\n",
       " 'a2f2',\n",
       " 'e4d3',\n",
       " 'b7b6',\n",
       " 'd3c3',\n",
       " 'f2f3',\n",
       " 'c3d4',\n",
       " 'b6d6',\n",
       " 'd4e4',\n",
       " 'd6d8',\n",
       " 'e4f3',\n",
       " 'd8d6',\n",
       " 'f3g4',\n",
       " 'd6a6',\n",
       " 'g4f4',\n",
       " 'a6d6',\n",
       " 'f4e4',\n",
       " 'd6b6',\n",
       " 'e4f5',\n",
       " 'b6d6',\n",
       " 'f5g4',\n",
       " 'd6c6',\n",
       " 'g4f4',\n",
       " 'c6b6',\n",
       " 'f4e5',\n",
       " 'b6b7',\n",
       " 'e5d6',\n",
       " 'b7g7',\n",
       " 'd6e6',\n",
       " 'g7g4',\n",
       " 'e6e7',\n",
       " 'g4c4',\n",
       " 'e7f7',\n",
       " 'c4c3',\n",
       " 'f7f6',\n",
       " 'c3c8',\n",
       " 'f6g5',\n",
       " 'c8a8',\n",
       " 'g5h6',\n",
       " 'a8a3',\n",
       " 'h6g7',\n",
       " 'a3d3',\n",
       " 'g7f8',\n",
       " 'd3d8',\n",
       " 'f8f7',\n",
       " 'd8f8',\n",
       " 'f7g6',\n",
       " 'f8d8',\n",
       " 'g6f5',\n",
       " 'd8d6',\n",
       " 'f5e4',\n",
       " 'd6d5',\n",
       " 'e4d5']"
      ]
     },
     "execution_count": 80,
     "metadata": {},
     "output_type": "execute_result"
    }
   ],
   "source": [
    "[m.uci() for m in board.move_stack]"
   ]
  },
  {
   "cell_type": "code",
   "execution_count": null,
   "metadata": {},
   "outputs": [],
   "source": []
  },
  {
   "cell_type": "code",
   "execution_count": null,
   "metadata": {},
   "outputs": [],
   "source": []
  },
  {
   "cell_type": "code",
   "execution_count": null,
   "metadata": {},
   "outputs": [],
   "source": []
  },
  {
   "cell_type": "code",
   "execution_count": null,
   "metadata": {},
   "outputs": [],
   "source": []
  },
  {
   "cell_type": "code",
   "execution_count": null,
   "metadata": {},
   "outputs": [],
   "source": []
  },
  {
   "cell_type": "code",
   "execution_count": null,
   "metadata": {},
   "outputs": [],
   "source": []
  },
  {
   "cell_type": "code",
   "execution_count": null,
   "metadata": {},
   "outputs": [],
   "source": []
  },
  {
   "cell_type": "code",
   "execution_count": null,
   "metadata": {},
   "outputs": [],
   "source": []
  },
  {
   "cell_type": "code",
   "execution_count": null,
   "metadata": {},
   "outputs": [],
   "source": []
  },
  {
   "cell_type": "code",
   "execution_count": null,
   "metadata": {},
   "outputs": [],
   "source": []
  },
  {
   "cell_type": "code",
   "execution_count": null,
   "metadata": {},
   "outputs": [],
   "source": []
  },
  {
   "cell_type": "code",
   "execution_count": null,
   "metadata": {},
   "outputs": [],
   "source": []
  },
  {
   "cell_type": "code",
   "execution_count": null,
   "metadata": {},
   "outputs": [],
   "source": []
  },
  {
   "cell_type": "code",
   "execution_count": null,
   "metadata": {},
   "outputs": [],
   "source": []
  },
  {
   "cell_type": "code",
   "execution_count": null,
   "metadata": {},
   "outputs": [],
   "source": []
  },
  {
   "cell_type": "code",
   "execution_count": null,
   "metadata": {},
   "outputs": [],
   "source": []
  },
  {
   "cell_type": "code",
   "execution_count": null,
   "metadata": {},
   "outputs": [],
   "source": []
  },
  {
   "cell_type": "code",
   "execution_count": null,
   "metadata": {},
   "outputs": [],
   "source": []
  },
  {
   "cell_type": "code",
   "execution_count": null,
   "metadata": {},
   "outputs": [],
   "source": []
  },
  {
   "cell_type": "code",
   "execution_count": null,
   "metadata": {},
   "outputs": [],
   "source": []
  },
  {
   "cell_type": "code",
   "execution_count": null,
   "metadata": {},
   "outputs": [],
   "source": []
  },
  {
   "cell_type": "code",
   "execution_count": null,
   "metadata": {},
   "outputs": [],
   "source": []
  }
 ],
 "metadata": {
  "kernelspec": {
   "display_name": "Python 3",
   "language": "python",
   "name": "python3"
  },
  "language_info": {
   "codemirror_mode": {
    "name": "ipython",
    "version": 3
   },
   "file_extension": ".py",
   "mimetype": "text/x-python",
   "name": "python",
   "nbconvert_exporter": "python",
   "pygments_lexer": "ipython3",
   "version": "3.6.3"
  }
 },
 "nbformat": 4,
 "nbformat_minor": 2
}
