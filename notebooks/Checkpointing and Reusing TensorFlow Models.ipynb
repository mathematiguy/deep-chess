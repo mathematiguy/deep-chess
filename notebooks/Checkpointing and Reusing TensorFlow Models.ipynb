{
 "cells": [
  {
   "cell_type": "markdown",
   "metadata": {},
   "source": [
    "# Checkpointing and Reusing TensorFlow Models"
   ]
  },
  {
   "cell_type": "markdown",
   "metadata": {},
   "source": [
    "(Source: https://nathanbrixius.wordpress.com/2016/05/24/checkpointing-and-reusing-tensorflow-models/)"
   ]
  },
  {
   "cell_type": "markdown",
   "metadata": {},
   "source": [
<<<<<<< HEAD
    "In my last two posts I introduced `TensorFlow` and wrote a very simple predictive model. In doing so I introduced many of the key concepts of `TensorFlow`:\n",
    "\n",
    "The `Session`, the core of the `TensorFlow` object model,\n",
    "Computational graphs and some of their elements: `placeholders`, `variables`, and `Tensors`,\n",
    "Training models by iteratively calling `Session.run` on `Optimization` objects.\n",
=======
    "In my last two posts I introduced TensorFlow and wrote a very simple predictive model. In doing so I introduced many of the key concepts of TensorFlow:\n",
    "\n",
    "The Session, the core of the TensorFlow object model,\n",
    "Computational graphs and some of their elements: placeholders, variables, and Tensors,\n",
    "Training models by iteratively calling Session.run on Optimization objects.\n",
>>>>>>> 5ebda5b114385f984d8f1be067c0d1ab69437853
    "In this post I want to show you can save and re-use the results of your TensorFlow models. As we discussed last time, training a model means finding variable values that suit a particular purpose, for example finding a slope and intercept that defines a line that best fits a series of points. Training a model can be computationally expensive because we have to search for the best variable values through optimization. Suppose we want to use the results of this trained model over and over again, but without re-training the model each time. You can do this in TensorFlow using the Saver object.\n",
    "\n",
    "A Saver object can save and restore the values of TensorFlow Variables. A typical scenario has three steps:\n",
    "\n",
    "Creating a Saver and telling the Saver which variables you want to save,\n",
    "Save the variables to a file,\n",
    "Restore the variables from a file when they are needed.\n",
    "A Saver deals only with Variables. It does not work with placeholders, sessions, expressions, or any other kind of TensorFlow object. Here is a simple example that saves and restores two variables:"
   ]
  },
  {
   "cell_type": "code",
<<<<<<< HEAD
   "execution_count": 1,
=======
   "execution_count": null,
>>>>>>> 5ebda5b114385f984d8f1be067c0d1ab69437853
   "metadata": {
    "collapsed": true
   },
   "outputs": [],
   "source": [
<<<<<<< HEAD
    "import numpy as np\n",
    "import tensorflow as tf"
   ]
  },
  {
   "cell_type": "code",
   "execution_count": 2,
   "metadata": {},
   "outputs": [],
   "source": [
=======
>>>>>>> 5ebda5b114385f984d8f1be067c0d1ab69437853
    "def save(checkpoint_file='hello.chk'):\n",
    "    with tf.Session() as session:\n",
    "        x = tf.Variable([42.0, 42.1, 42.3], name='x')\n",
    "        y = tf.Variable([[1.0, 2.0], [3.0, 4.0]], name='y')\n",
    "        not_saved = tf.Variable([-1, -2], name='not_saved')\n",
    "        session.run(tf.initialize_all_variables())\n",
    "\n",
    "        print(session.run(tf.all_variables()))\n",
    "        saver = tf.train.Saver([x, y])\n",
    "        saver.save(session, checkpoint_file)\n",
    "\n",
<<<<<<< HEAD
    "def restore(checkpoint_file='hello.chk'):\n",
=======
    "def restore(checkpoint_file=’hello.chk’):\n",
>>>>>>> 5ebda5b114385f984d8f1be067c0d1ab69437853
    "    x = tf.Variable(-1.0, validate_shape=False, name='x')\n",
    "    y = tf.Variable(-1.0, validate_shape=False, name='y')\n",
    "    with tf.Session() as session:\n",
    "        saver = tf.train.Saver()\n",
    "        saver.restore(session, checkpoint_file)\n",
    "        print(session.run(tf.all_variables()))\n",
    "\n",
    "def reset():\n",
    "    tf.reset_default_graph()"
   ]
  },
  {
   "cell_type": "markdown",
   "metadata": {},
   "source": [
    "Try calling `save()`, `reset()` and then `restore()`, and compare the outputs to verify everything worked out. When you create a Saver, you should specify a list (or dictionary) of Variable objects you wish to save. (If you don’t, `TensorFlow` will assume you are interested in all the variables in your current session.) The shapes and values of these values will be stored in binary format when you call the `save()` method, and retrieved on `restore()`. Notice in my last function, when I create `x` and `y`, I give dummy values and say validate_shape=False. This is because I want the saver to determine the values and shapes when the variables are restored. If you’re wondering why the `reset()` function is there, remember that computational graphs are associated with Sessions. I want to “clear out” the state of the Session so I don’t have multiple `x` and `y` objects floating around as we call `save()` and `restore()`.\n",
    "\n",
    "When you use `Saver` in real models, you should keep a couple of facts in mind:\n",
    "\n",
    "If you want to do anything useful with the Variables you restore, you may need to recreate the rest of the computational graph.\n",
    "The computational graph that you use with restored Variables need not be the same as the one that you used when saving. That can be useful!\n",
    "`Saver` has additional methods that can be helpful if your computation spans machines, or if you want to avoid overwriting old checkpoints on successive calls to `save()`.\n",
    "At the end of this post I have include a modification of my line fitting example to optionally save and restore model results. I’ve highlighted the interesting parts. You can call it like this:"
   ]
  },
  {
   "cell_type": "code",
<<<<<<< HEAD
   "execution_count": 8,
   "metadata": {},
   "outputs": [
    {
     "ename": "NameError",
     "evalue": "name 'make_data' is not defined",
     "output_type": "error",
     "traceback": [
      "\u001b[0;31m---------------------------------------------------------------------------\u001b[0m",
      "\u001b[0;31mNameError\u001b[0m                                 Traceback (most recent call last)",
      "\u001b[0;32m<ipython-input-8-10eed7a2ae03>\u001b[0m in \u001b[0;36m<module>\u001b[0;34m()\u001b[0m\n\u001b[0;32m----> 1\u001b[0;31m \u001b[0mfit_line\u001b[0m\u001b[1;33m(\u001b[0m\u001b[1;36m5\u001b[0m\u001b[1;33m,\u001b[0m \u001b[0mcheckpoint_file\u001b[0m\u001b[1;33m=\u001b[0m\u001b[1;34m'vars.chk'\u001b[0m\u001b[1;33m)\u001b[0m\u001b[1;33m\u001b[0m\u001b[0m\n\u001b[0m\u001b[1;32m      2\u001b[0m \u001b[0mreset\u001b[0m\u001b[1;33m(\u001b[0m\u001b[1;33m)\u001b[0m\u001b[1;33m\u001b[0m\u001b[0m\n\u001b[1;32m      3\u001b[0m \u001b[0mfit_line\u001b[0m\u001b[1;33m(\u001b[0m\u001b[1;36m5\u001b[0m\u001b[1;33m,\u001b[0m \u001b[0mcheckpoint_file\u001b[0m\u001b[1;33m=\u001b[0m\u001b[1;34m'vars.chk'\u001b[0m\u001b[1;33m,\u001b[0m \u001b[0mrestore\u001b[0m\u001b[1;33m=\u001b[0m\u001b[1;32mTrue\u001b[0m\u001b[1;33m)\u001b[0m\u001b[1;33m\u001b[0m\u001b[0m\n",
      "\u001b[0;32m<ipython-input-7-23edc4d002ae>\u001b[0m in \u001b[0;36mfit_line\u001b[0;34m(n, log_progress, iter_scale, restore, checkpoint_file)\u001b[0m\n\u001b[1;32m     13\u001b[0m         \u001b[0mtrain_step\u001b[0m \u001b[1;33m=\u001b[0m \u001b[0mtf\u001b[0m\u001b[1;33m.\u001b[0m\u001b[0mtrain\u001b[0m\u001b[1;33m.\u001b[0m\u001b[0mAdamOptimizer\u001b[0m\u001b[1;33m(\u001b[0m\u001b[1;36m0.05\u001b[0m\u001b[1;33m)\u001b[0m\u001b[1;33m.\u001b[0m\u001b[0mminimize\u001b[0m\u001b[1;33m(\u001b[0m\u001b[0merror\u001b[0m\u001b[1;33m)\u001b[0m\u001b[1;33m\u001b[0m\u001b[0m\n\u001b[1;32m     14\u001b[0m \u001b[1;33m\u001b[0m\u001b[0m\n\u001b[0;32m---> 15\u001b[0;31m         \u001b[0mx_in\u001b[0m\u001b[1;33m,\u001b[0m \u001b[0my_star\u001b[0m \u001b[1;33m=\u001b[0m \u001b[0mmake_data\u001b[0m\u001b[1;33m(\u001b[0m\u001b[0mn\u001b[0m\u001b[1;33m)\u001b[0m\u001b[1;33m\u001b[0m\u001b[0m\n\u001b[0m\u001b[1;32m     16\u001b[0m \u001b[1;33m\u001b[0m\u001b[0m\n\u001b[1;32m     17\u001b[0m         \u001b[0msaver\u001b[0m \u001b[1;33m=\u001b[0m \u001b[0mtf\u001b[0m\u001b[1;33m.\u001b[0m\u001b[0mtrain\u001b[0m\u001b[1;33m.\u001b[0m\u001b[0mSaver\u001b[0m\u001b[1;33m(\u001b[0m\u001b[1;33m)\u001b[0m\u001b[1;33m\u001b[0m\u001b[0m\n",
      "\u001b[0;31mNameError\u001b[0m: name 'make_data' is not defined"
     ]
    }
   ],
=======
   "execution_count": null,
   "metadata": {
    "collapsed": true
   },
   "outputs": [],
>>>>>>> 5ebda5b114385f984d8f1be067c0d1ab69437853
   "source": [
    "fit_line(5, checkpoint_file='vars.chk')\n",
    "reset()\n",
    "fit_line(5, checkpoint_file='vars.chk', restore=True)"
   ]
  },
  {
   "cell_type": "markdown",
   "metadata": {},
   "source": [
    "With this version, I could easily “score” new data points `x` using my trained model."
   ]
  },
  {
   "cell_type": "code",
<<<<<<< HEAD
   "execution_count": 7,
   "metadata": {},
   "outputs": [],
=======
   "execution_count": 2,
   "metadata": {
    "collapsed": false
   },
   "outputs": [
    {
     "ename": "SyntaxError",
     "evalue": "invalid character in identifier (<ipython-input-2-44fbfe465163>, line 12)",
     "output_type": "error",
     "traceback": [
      "\u001b[0;36m  File \u001b[0;32m\"<ipython-input-2-44fbfe465163>\"\u001b[0;36m, line \u001b[0;32m12\u001b[0m\n\u001b[0;31m    error = tf.sqrt((y – y_act) * (y – y_act))\u001b[0m\n\u001b[0m                       ^\u001b[0m\n\u001b[0;31mSyntaxError\u001b[0m\u001b[0;31m:\u001b[0m invalid character in identifier\n"
     ]
    }
   ],
>>>>>>> 5ebda5b114385f984d8f1be067c0d1ab69437853
   "source": [
    "def fit_line(n=1, log_progress=False, iter_scale=200,\n",
    "             restore=False, checkpoint_file=None):\n",
    "    with tf.Session() as session:\n",
    "        x = tf.placeholder(tf.float32, [n], name='x')\n",
    "        y = tf.placeholder(tf.float32, [n], name='y')\n",
    "        m = tf.Variable([1.0], name='m')\n",
    "        b = tf.Variable([1.0], name='b')\n",
<<<<<<< HEAD
    "        y = tf.add(tf.multiply(m, x), b) # fit y_i = m * x_i + b\n",
    "        y_act = tf.placeholder(tf.float32, [n], name='y_')\n",
    "\n",
    "        # minimize sum of squared error between trained and actual.\n",
    "        error = tf.sqrt((y - y_act) * (y - y_act))\n",
=======
    "        y = tf.add(tf.mul(m, x), b) # fit y_i = m * x_i + b\n",
    "        y_act = tf.placeholder(tf.float32, [n], name='y_')\n",
    "\n",
    "        # minimize sum of squared error between trained and actual.\n",
    "        error = tf.sqrt((y – y_act) * (y – y_act))\n",
>>>>>>> 5ebda5b114385f984d8f1be067c0d1ab69437853
    "        train_step = tf.train.AdamOptimizer(0.05).minimize(error)\n",
    "\n",
    "        x_in, y_star = make_data(n)\n",
    "\n",
    "        saver = tf.train.Saver()\n",
    "        feed_dict = {x: x_in, y_act: y_star}\n",
    "        if restore:\n",
    "            print(\"Loading variables from '%s'.\" % checkpoint_file)\n",
    "            saver.restore(session, checkpoint_file)\n",
    "            y_i, m_i, b_i = session.run([y, m, b], feed_dict)\n",
    "        else:\n",
    "            init = tf.initialize_all_variables()\n",
    "            session.run(init)\n",
    "            for i in range(iter_scale * n):\n",
    "                y_i, m_i, b_i, _ = session.run([y, m, b, train_step],\n",
    "                                               feed_dict)\n",
<<<<<<< HEAD
    "                err = np.linalg.norm(y_i - y_star, 2)\n",
=======
    "                err = np.linalg.norm(y_i – y_star, 2)\n",
>>>>>>> 5ebda5b114385f984d8f1be067c0d1ab69437853
    "                if log_progress:\n",
    "                    print(\"%3d | %.4f %.4f %.4e\" % (i, m_i, b_i, err))\n",
    "\n",
    "            print(\"Done training! m = %f, b = %f, err = %e, iter = %d\"\n",
    "                  % (m_i, b_i, err, i))\n",
    "            if checkpoint_file is not None:\n",
    "                print(\"Saving variables to '%s'.\"% checkpoint_file)\n",
    "                saver.save(session, checkpoint_file)\n",
    "\n",
    "        print(\"      x: %s\" % x_in)\n",
    "        print(\"Trained: %s\" % y_i)\n",
    "        print(\" Actual: %s\" % y_star)"
   ]
<<<<<<< HEAD
=======
  },
  {
   "cell_type": "code",
   "execution_count": null,
   "metadata": {
    "collapsed": true
   },
   "outputs": [],
   "source": []
>>>>>>> 5ebda5b114385f984d8f1be067c0d1ab69437853
  }
 ],
 "metadata": {
  "kernelspec": {
   "display_name": "Python 3",
   "language": "python",
   "name": "python3"
  },
  "language_info": {
   "codemirror_mode": {
    "name": "ipython",
    "version": 3
   },
   "file_extension": ".py",
   "mimetype": "text/x-python",
   "name": "python",
   "nbconvert_exporter": "python",
   "pygments_lexer": "ipython3",
<<<<<<< HEAD
   "version": "3.6.3"
=======
   "version": "3.6.0"
>>>>>>> 5ebda5b114385f984d8f1be067c0d1ab69437853
  }
 },
 "nbformat": 4,
 "nbformat_minor": 2
}
